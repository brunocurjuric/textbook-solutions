{
 "cells": [
  {
   "cell_type": "markdown",
   "id": "a7564c68",
   "metadata": {},
   "source": [
    "#### 6.1 \n",
    "\n",
    "Assume that your vision is diffraction limited at $\\lambda$ = 5000 $Å$ and that the diameter of the pupil of your eye is *D* = 8 mm. What angular resolution can you achieve with your unaided eye? How does this compare with the maximum angular size of Venus and Jupiter as seen from the Earth?"
   ]
  },
  {
   "cell_type": "markdown",
   "id": "8e8ecc8a",
   "metadata": {},
   "source": [
    "#### 6.2 \n",
    "\n",
    "(a) The Hiltner Telescope at the MDM Observatory (on Kitt Peak, Arizona) has an aperture *D* = 2.4 m. Its Cassegrain focus has an f-number $\\textit{f}$ / 7. What is the focal length *F* and plate scale *s*?\n",
    "\n",
    "(b) The Mayall Telescope at the Kitt Peak National Observatory (also on Kitt Peak) has an aperture *D* = 4.0 m. Its prime focus has an f-number $\\textit{f}$ / 2.7, its Cassegrain focus has $\\textit{f}$ / 8, and its Coudé focus has $\\textit{f}$ / 160. What is the focal length and plate scale for *each* of these three foci?\n",
    "\n",
    "(c) The Keck Telescope (on Mauna Kea, Hawaii) has an aperture *D* = 10.0 m. Its Cassegrain focus has $\\textit{f}$ / 15. What is the focal length and plate scale?"
   ]
  },
  {
   "cell_type": "markdown",
   "id": "9606be17",
   "metadata": {},
   "source": [
    "#### 6.3 \n",
    "\n",
    "With the *D* = 2.4 m telescope at the MDM Observatory, I can obtain a spectrum of a particular star with signal-to-noise ratio *S / N* = 100 in *t* = 20 minutes when the atmospheric seeing is average ($\\theta$ = 1$^\\prime$$^\\prime$). How long would it take me to obtain the same data with the Keck Telescope (*D* = 10.0 m) with excellent seeing ($\\theta$ = 0.4$^\\prime$$^\\prime$)?"
   ]
  },
  {
   "cell_type": "markdown",
   "id": "e26e44f9",
   "metadata": {},
   "source": [
    "#### 6.4 \n",
    "\n",
    "A charge-coupled device (CCD) detector is mounted at the focus of an $\\textit{f}$$\\,$/$\\,$7 reflecting telescope with a *D* = 50 cm mirror. The CCD chip contains 1024 × 1024 pixels, with each square pixel being 10 $\\mu$m on a side.\n",
    "\n",
    "(a) What is the area (in square arcseconds) of the sky that is imaged on a single pixel?\n",
    "\n",
    "(b) What is the area (in square arcminutes) of the sky that is imaged on the entire chip? Would the image of the full Moon fit into the chip?\n",
    "\n",
    "(c) How many separate exposures would be required to cover the entire celestial sphere (4$\\pi$ steradians)?"
   ]
  },
  {
   "cell_type": "markdown",
   "id": "870bb010",
   "metadata": {},
   "source": [
    "#### 6.5 \n",
    "\n",
    "Suppose that you want to see stars that are as faint as possible in the background limited case. The Astronomy Fairy gives you a choice: *either* she can increase the quantum efficiency of your retina from *q* = 0.1 to *q* = 1, or she can double the maximum pupil size of your eye while guaranteeing diffraction-limited angular resolution. Which of these choices would produce a lower limiting flux $F_\\lambda$? Explain your choice."
   ]
  },
  {
   "cell_type": "markdown",
   "id": "43eb0a0e",
   "metadata": {},
   "source": [
    "#### 6.6 \n",
    "\n",
    "The Atacama Large Millimeter/Submillimeter Array (ALMA) is designed to operate over the wavelength range $\\lambda$ = 0.3 $\\rightarrow$ 9.6 mm. It will consist of 80 independent 12 m telescopes with a maximum baseline of 18 km.\n",
    "\n",
    "(a) What is the highest angular resolution achievable with ALMA?\n",
    "\n",
    "(b) How large would a single-dish antenna have to be to have the same collecting area as ALMA?"
   ]
  },
  {
   "cell_type": "markdown",
   "id": "6961e75c",
   "metadata": {},
   "source": [
    "#### 6.7 \n",
    "\n",
    "Prove that equation (6.18, given below) is correct for a Poisson probability distribution.\n",
    "\n",
    "Equation 6.18:\n",
    "\n",
    "$$\n",
    "\\begin{equation}\n",
    "\\langle x^2 \\rangle = \\sum_{x=0}^\\infty x^2P(x,\\mu) = \\mu^2 + \\mu\n",
    "\\end{equation}\n",
    "$$"
   ]
  }
 ],
 "metadata": {
  "kernelspec": {
   "display_name": "Python 3 (ipykernel)",
   "language": "python",
   "name": "python3"
  },
  "language_info": {
   "codemirror_mode": {
    "name": "ipython",
    "version": 3
   },
   "file_extension": ".py",
   "mimetype": "text/x-python",
   "name": "python",
   "nbconvert_exporter": "python",
   "pygments_lexer": "ipython3",
   "version": "3.9.12"
  }
 },
 "nbformat": 4,
 "nbformat_minor": 5
}
