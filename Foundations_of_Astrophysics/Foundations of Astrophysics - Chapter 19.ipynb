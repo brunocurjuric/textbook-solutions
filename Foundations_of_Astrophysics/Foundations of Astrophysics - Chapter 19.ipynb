{
 "cells": [
  {
   "cell_type": "markdown",
   "id": "03eea8df",
   "metadata": {},
   "source": [
    "#### 19.1 \n",
    "\n",
    "A star at rest with respect to the LSR is $60^◦$ away from the solar apex. The star’s parallax is $\\pi ^{\\prime\\prime} = 15$ milliarcseconds (mas). What are its radial velocity and proper motion? In what direction is the proper motion, relative to the solar apex?"
   ]
  },
  {
   "cell_type": "markdown",
   "id": "7b5c3406",
   "metadata": {},
   "source": [
    "#### 19.2 \n",
    "\n",
    "Suppose the Milky Way consisted of $2.7 × 10^{11}$ stars, each of solar luminosity $M_\\text{B} = 4.7$. What would be the absolute magnitude of the whole Galaxy?"
   ]
  },
  {
   "cell_type": "markdown",
   "id": "6d92fb80",
   "metadata": {},
   "source": [
    "#### 19.3 \n",
    "\n",
    "Show that in the case of Keplerian orbits with a centrally concentrated mass (that is, $M(r)$ = constant),\n",
    "\n",
    "$$\n",
    "\\begin{equation}\n",
    "    \\frac{A - B}{A + B}  = 2 .\n",
    "\\end{equation}\n",
    "$$\n",
    "\n",
    "Does this agree with the observationally determined values of $A$ and $B$ for the Galaxy?"
   ]
  },
  {
   "cell_type": "markdown",
   "id": "327b4bf0",
   "metadata": {},
   "source": [
    "#### 19.4 \n",
    "\n",
    "Derive equation (19.49), starting from equation (19.42).\n",
    "\n",
    "Equation 19.49:\n",
    "\n",
    "$$\n",
    "\\begin{equation}\n",
    "    v_t \\approx d \\, (A \\ \\text{cos} \\ 2ℓ + B) .\n",
    "\\end{equation}\n",
    "$$\n",
    "\n",
    "Equation 19.42:\n",
    "\n",
    "$$\n",
    "\\begin{equation}\n",
    " v_t = (\\omega − \\omega_0)R_0 \\text{cos} \\ ℓ − \\omega d .\n",
    "\\end{equation}\n",
    "$$"
   ]
  },
  {
   "cell_type": "markdown",
   "id": "aca3514f",
   "metadata": {},
   "source": [
    "#### 19.5 \n",
    "\n",
    "Determine the proper motion relative to the LSR for a star in a circular orbit about the Galactic center, at a distance $d = 5$ kpc from the Sun and at galactic longitude  $ℓ = 45^◦$. Hint: the Galaxy’s rotation curve is given in Figure 19.19 (below).\n",
    "\n",
    "<img title=\"Figure 19_19\" alt=\"Figure 19_19\" src=\"figure_19_19.PNG\" width=\"500\"/>"
   ]
  },
  {
   "cell_type": "markdown",
   "id": "6ba75448",
   "metadata": {},
   "source": [
    "#### 19.6 \n",
    "\n",
    "The star Rigel has a radial velocity $v_r = 20.7$ km s$^{−1}$, parallax $\\pi ^{\\prime\\prime} = 4.22$ milliarcseconds (mas), and proper motion components $\\mu_α = 1.67$ mas yr$^{−1}$ in right ascension and $\\mu_δ = 0.56$ mas yr$^{−1}$ in declination. What are its total proper motion, tangential velocity, and space motion?"
   ]
  },
  {
   "cell_type": "markdown",
   "id": "787bfde5",
   "metadata": {},
   "source": [
    "#### 19.7 \n",
    "\n",
    "Derive the relation\n",
    "\n",
    "$$\n",
    "\\begin{equation}\n",
    "    \\frac{A + B}{A - B}  = - \\frac{d\\Theta}{dR} \\bigg/ \\frac{\\Theta}{R} .\n",
    "\\end{equation}\n",
    "$$\n",
    "\n",
    "starting with the definitions of the Oort constants $A$ and $B$."
   ]
  },
  {
   "cell_type": "markdown",
   "id": "7bc4f3d6",
   "metadata": {},
   "source": [
    "#### 19.8 \n",
    "\n",
    "Assume that a galaxy is spherical. What radial dependence of the mass density $\\rho \\, (R)$ gives a flat rotation curve (that is, $\\Theta(R) =$ constant)? In this case, how does the enclosed mass $M(R)$ vary with radius $R$?"
   ]
  },
  {
   "cell_type": "markdown",
   "id": "67156f59",
   "metadata": {},
   "source": [
    "#### 19.9 \n",
    "\n",
    "The Perseus spiral arm of the Galaxy can be traced from $R =$ 4 kpc from the Galactic center to $R =$ 12 kpc. Using the rotation curve in Figure 19.19 (below), determine how long it takes for the stars at the inner end of the Perseus arm to gain one full orbit on stars at the outer end.\n",
    "\n",
    "\n",
    "<img title=\"Figure 19_19\" alt=\"Figure 19_19\" src=\"figure_19_19.PNG\" width=\"500\"/>"
   ]
  },
  {
   "cell_type": "markdown",
   "id": "5801f21d",
   "metadata": {},
   "source": [
    "#### 19.10 \n",
    "\n",
    "The star S0-2, of spectral class B1 V, orbits the central black hole at the Galactic center on an orbit with semimajor axis $a = 920$ AU and eccentricity $e = 0.867$.\n",
    "\n",
    "(a) What is the star’s distance from the black hole at pericenter?\n",
    "\n",
    "(b) How close does the star get to the Roche limit?"
   ]
  }
 ],
 "metadata": {
  "kernelspec": {
   "display_name": "Python 3 (ipykernel)",
   "language": "python",
   "name": "python3"
  },
  "language_info": {
   "codemirror_mode": {
    "name": "ipython",
    "version": 3
   },
   "file_extension": ".py",
   "mimetype": "text/x-python",
   "name": "python",
   "nbconvert_exporter": "python",
   "pygments_lexer": "ipython3",
   "version": "3.9.12"
  }
 },
 "nbformat": 4,
 "nbformat_minor": 5
}
