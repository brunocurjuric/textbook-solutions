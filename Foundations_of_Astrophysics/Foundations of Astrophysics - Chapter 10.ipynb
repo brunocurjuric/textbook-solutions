{
 "cells": [
  {
   "cell_type": "markdown",
   "id": "00fd8e7f",
   "metadata": {},
   "source": [
    "#### 10.1 \n",
    "\n",
    "The Hill radius (discussed in Section 4.3.2) is the maximum orbital size for a satellite orbiting a planet.\n",
    "\n",
    "(a) What is the Hill radius of the planet Mercury?\n",
    "\n",
    "(b) What is the Hill radius of the planet Jupiter?"
   ]
  },
  {
   "cell_type": "markdown",
   "id": "5dd2a29c",
   "metadata": {},
   "source": [
    "#### 10.2 \n",
    "\n",
    "The mean mass density of Mercury is 3.9 times that of the Sun. What is the Roche limit for the Mercury–Sun system, expressed as a multiple of the Sun’s photospheric radius? What is the Roche limit for the Mercury–Sun system, expressed as a fraction of the semimajor axis of Mercury’s orbit?"
   ]
  },
  {
   "cell_type": "markdown",
   "id": "9f2d5281",
   "metadata": {},
   "source": [
    "#### 10.3 \n",
    "\n",
    "At what frequency $ν_{max}$ would you expect to detect the strongest cyclotron radiation from the Sun’s K corona?"
   ]
  },
  {
   "cell_type": "markdown",
   "id": "70ace6e6",
   "metadata": {},
   "source": [
    "####  10.4\n",
    "\n",
    "Compute the ratio of the differential tidal force on Io due to Jupiter to the differential tidal force on the Moon due to the Earth."
   ]
  },
  {
   "cell_type": "markdown",
   "id": "bff723b7",
   "metadata": {},
   "source": [
    "#### 10.5\n",
    "\n",
    "How often does an observer at the Sun’s location see the rings of Saturn exactly edge-on?"
   ]
  },
  {
   "cell_type": "markdown",
   "id": "10d0e7e1",
   "metadata": {},
   "source": [
    "#### 10.6 \n",
    "\n",
    "Saturn’s moon Titan has a mass $M = 1.3 × 10^{23}$ kg and a radius $R =$ 2580 km. The temperature at the surface of Titan is $T = 94$ K.\n",
    "\n",
    "(a) What is the gravitational acceleration $g$ at the surface of Titan?\n",
    "\n",
    "(b) Would Titan be able to retain $\\text{H}_2$ in its atmosphere? Would Titan be able to retain $\\text{CO}$$_2$ in its atmosphere?\n",
    "\n",
    "(c) If you approximate the atmosphere of Titan as consisting entirely of molecular nitrogen, what is the scale height of Titan’s atmosphere?"
   ]
  },
  {
   "cell_type": "markdown",
   "id": "a310d79f",
   "metadata": {},
   "source": [
    "#### 10.7 \n",
    "\n",
    "Mars has an orbit with $a_\\text{Mars} =$ 1.524  AU and $e_\\text{Mars} =$ 0.093.\n",
    "\n",
    "(a) If we assume that the orbit of the Earth is circular, and is coplanar with the orbit of Mars, what is the minimum possible distance between the Earth and Mars?\n",
    "\n",
    "(b) The Moon orbits the Earth on an orbit with $a =$ 384,000 km and $e =$ 0.055. What is the maximum possible angular separation between the Earth and the Moon as seen from Mars?\n",
    "\n",
    "(c) Suppose that the angular resolution of your eyes is $\\theta =$ 1 arcmin. If you go vacationing on Mars, will you be able to see the Earth and the Moon as separate points with your unaided eyes?"
   ]
  },
  {
   "cell_type": "markdown",
   "id": "df9a8485",
   "metadata": {},
   "source": [
    "#### 10.8\n",
    "\n",
    "Infrared observations of the planet Saturn indicate that it emits radiation at the rate $L_\\text{Sat} =$ 1.98 $×$ 10$^{17}$ W. However, it absorbs sunlight at the rate $W_\\text{Sat}$ = 1.11 $×$ 10$^{17}$ W. If the excess radiated power comes from Saturn’s gravitational potential energy, at what rate $dR /dt$ is Saturn shrinking in radius? (Hint: you may make the approximation that Saturn is of uniform density.) At this rate of shrinkage, how long would it take for Saturn’s radius to decrease by $1 \\%$?"
   ]
  },
  {
   "cell_type": "markdown",
   "id": "ff083363",
   "metadata": {},
   "source": [
    "#### 10.9 \n",
    "\n",
    "Using the equation of hydrostatic equilibrium, compute the approximate central pressure of all four Jovian planets."
   ]
  },
  {
   "cell_type": "markdown",
   "id": "6d2683ec",
   "metadata": {},
   "source": [
    "#### 10.10 \n",
    "\n",
    "The rotation speed of Venus was first measured with ground-based radar.\n",
    "\n",
    "(a) A radar signal with initial frequency $ν_0$ is bounced off a target that is receding at\n",
    "speed $v$. Show that the returned signal is shifted to a frequency\n",
    "\n",
    "$$\n",
    "\\begin{equation}\n",
    "ν = ν_0 \\left( 1 - \\frac{2v}{c} \\right)\n",
    "\\end{equation}\n",
    "$$\n",
    "for $v ≪ c$\n",
    "\n",
    "(b) Suppose that you are in the equatorial plane of Venus and you bounce $ν_0 =$ 1 GHz\n",
    "radar signal off the entire planet. What is the spread in frequencies of the returned\n",
    "signal? (Neglect any Doppler shift due to the motion of the planet as a whole.)"
   ]
  },
  {
   "cell_type": "markdown",
   "id": "a9e49590",
   "metadata": {},
   "source": [
    "#### 10.11 \n",
    "\n",
    "The orbital planes of Phobos and Deimos are very close to the equatorial plane of Mars. Thus, when you are standing near the equator on Mars, you can see Phobos and Deimos pass through the zenith.\n",
    "\n",
    "(a) You see Phobos at the zenith. How long will it take Phobos to reach the horizon? At what point on the horizon will Phobos set?\n",
    "\n",
    "(b) You see Deimos at the zenith. How long will it take Deimos to reach the horizon? At what point on the horizon will Deimos set?"
   ]
  }
 ],
 "metadata": {
  "kernelspec": {
   "display_name": "Python 3 (ipykernel)",
   "language": "python",
   "name": "python3"
  },
  "language_info": {
   "codemirror_mode": {
    "name": "ipython",
    "version": 3
   },
   "file_extension": ".py",
   "mimetype": "text/x-python",
   "name": "python",
   "nbconvert_exporter": "python",
   "pygments_lexer": "ipython3",
   "version": "3.9.12"
  }
 },
 "nbformat": 4,
 "nbformat_minor": 5
}
