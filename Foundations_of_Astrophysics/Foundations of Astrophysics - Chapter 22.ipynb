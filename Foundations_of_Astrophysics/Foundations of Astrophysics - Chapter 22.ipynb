{
 "cells": [
  {
   "cell_type": "markdown",
   "id": "d5da9823",
   "metadata": {},
   "source": [
    "#### 22.1 \n",
    "\n",
    "Suppose you are an astronomer orbiting a star somewhere near the middle of the Virgo Cluster, and are observing the Local Group.\n",
    "\n",
    "(a) What would be the angular size of the Local Group?\n",
    "\n",
    "(b) What would be the angular size of the Milky Way Galaxy?\n",
    "\n",
    "(c) What would be the apparent B magnitude of the Milky Way Galaxy?"
   ]
  },
  {
   "cell_type": "markdown",
   "id": "1e6e5e07",
   "metadata": {},
   "source": [
    "#### 22.2 \n",
    "\n",
    "Compute the mean apparent $V$ magnitude of a $P = 100$ day Cepheid star in the Coma Cluster ($d = 100$ Mpc)."
   ]
  },
  {
   "cell_type": "markdown",
   "id": "075968fd",
   "metadata": {},
   "source": [
    "#### 22.3 \n",
    "\n",
    "How would the “Finger of God” effect change if the dominant motion of clusters was rotation?"
   ]
  },
  {
   "cell_type": "markdown",
   "id": "8a411ee5",
   "metadata": {},
   "source": [
    "#### 22.4 \n",
    "\n",
    "Using data from this chapter, estimate the time it takes a galaxy in the Coma Cluster to cross from one side of the cluster to the other. Does this result tell you anything about whether or not the cluster is gravitationally bound?"
   ]
  },
  {
   "cell_type": "markdown",
   "id": "90da6f34",
   "metadata": {},
   "source": [
    "#### 22.5 \n",
    "\n",
    "In a few billion years, as we note in this chapter, our galaxy and the Andromeda Galaxy will merge. Compute the expected number of collisions between stars when this occurs. (Assume that the typical star in each galaxy is an M dwarf, and that their average space density is equal to that of the solar neighborhood.)"
   ]
  },
  {
   "cell_type": "markdown",
   "id": "d79bfe1a",
   "metadata": {},
   "source": [
    "#### 22.6 \n",
    "\n",
    "The number of galaxies brighter than $m_B = 12$ mag is about $0.014$ per square degree of the celestial sphere. Suppose that you wanted to observe every galaxy brighter than $m_B = 16$ mag in one-quarter of the sky. How many galaxies would you expect in such a sample?"
   ]
  }
 ],
 "metadata": {
  "kernelspec": {
   "display_name": "Python 3 (ipykernel)",
   "language": "python",
   "name": "python3"
  },
  "language_info": {
   "codemirror_mode": {
    "name": "ipython",
    "version": 3
   },
   "file_extension": ".py",
   "mimetype": "text/x-python",
   "name": "python",
   "nbconvert_exporter": "python",
   "pygments_lexer": "ipython3",
   "version": "3.9.12"
  }
 },
 "nbformat": 4,
 "nbformat_minor": 5
}
