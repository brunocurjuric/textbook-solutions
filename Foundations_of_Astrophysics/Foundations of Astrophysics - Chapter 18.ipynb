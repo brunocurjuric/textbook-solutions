{
 "cells": [
  {
   "cell_type": "markdown",
   "id": "4e07b674",
   "metadata": {},
   "source": [
    "#### 18.1 \n",
    "\n",
    "What would be the rotation period of the Sun if it collapsed to a radius $R = 6000$ km without losing angular momentum?"
   ]
  },
  {
   "cell_type": "markdown",
   "id": "a8f98792",
   "metadata": {},
   "source": [
    "#### 18.2 \n",
    "\n",
    "What is the radius of a $1.5M_⊙$ neutron star, expressed as a fraction of its Schwarzschild radius?"
   ]
  },
  {
   "cell_type": "markdown",
   "id": "1db47278",
   "metadata": {},
   "source": [
    "#### 18.3 \n",
    "\n",
    "A star reaches “break-up” speed when it rotates so rapidly that the centrifugal acceleration at its equator equals the surface gravity $g$. Estimate the rotation period of a white dwarf rotating at break-up speed. (You may ignore any deformations of the white dwarf from a spherical shape.)"
   ]
  },
  {
   "cell_type": "markdown",
   "id": "4ec76c7c",
   "metadata": {},
   "source": [
    "#### 18.4 \n",
    "\n",
    "What is the mean density of a $1.5M_⊙$ neutron star? A carbon nucleus has a radius $r ≈ 3 × 10^{−15}$ m; what is its density? What is the ratio of the two densities?"
   ]
  },
  {
   "cell_type": "markdown",
   "id": "480d738c",
   "metadata": {},
   "source": [
    "####  18.5 \n",
    "\n",
    "Suppose that a supernova explosion results in the outer $4M_⊙$ of the dying star being ejected at a speed $v = 5000$ km s$^{−1}$.\n",
    "\n",
    "(a) What is the kinetic energy of the expanding ejecta?\n",
    "\n",
    "(b) The ejecta are slowed by sweeping up the local interstellar gas. Assuming the density of the interstellar gas is $ρ = 2 × 10^{−19}$ kg m$^{−3}$, how large a volume will be swept up by the time the outflow velocity has decreased to 10 km s$^{−1}$? (Hint: you may assume that the kinetic energy of expansion is conserved.)"
   ]
  },
  {
   "cell_type": "markdown",
   "id": "72a803e3",
   "metadata": {},
   "source": [
    "#### 18.6 \n",
    "\n",
    "Photons leaving the surface of a compact stellar remnant are gravitationally redshifted by an amount\n",
    "\n",
    "$$\n",
    "\\begin{equation}\n",
    "    \\frac{\\Deltaν}{ν_0} \\approx - \\frac{r_\\text{Sch}}{2r} ,\n",
    "\\end{equation}\n",
    "$$\n",
    "\n",
    "where $r_\\text{Sch}$ is the Schwarzschild radius of the remnant and $r$ is its actual radius. Calculate the gravitational redshift, in angstroms, for the $\\text{H}\\beta \\ $ $λ4861$ line of hydrogen from a $1M_⊙$ white dwarf. How can we distinguish this gravitational redshift from a possible Doppler shift due to the motion of the white dwarf?"
   ]
  },
  {
   "cell_type": "markdown",
   "id": "1986e6cb",
   "metadata": {},
   "source": [
    "#### 18.7\n",
    "\n",
    "On a plot of log $T$ versus log $ρ$, where $T$ is temperature and $ρ$ is mass density, plot the line along which the thermal pressure of an ideal gas is equal to the pressure provided by nonrelativistic degenerate electrons. (You may assume that all factors of order unity, including the mean molecular mass μ, are exactly equal to one.) Label the “degenerate” and “nondegenerate” regimes. Which regime does the center of the planet Jupiter ($ρ ≈ 3000$ kg m$^{−3}$, $T ≈$ 40,000 K) fall into?"
   ]
  },
  {
   "cell_type": "markdown",
   "id": "e61e8c98",
   "metadata": {},
   "source": [
    "#### 18.8 \n",
    "\n",
    "The speed of sound can generally be written as\n",
    "\n",
    "$$\n",
    "\\begin{equation}\n",
    "c_s = \\left( \\gamma \\frac{P}{\\rho} \\right)^{1/2} ,\n",
    "\\end{equation}\n",
    "$$\n",
    "\n",
    "where $P$ is the pressure, $ρ$ is the mass density, and $γ$ is the adiabatic index (a number of order unity). Show that within a white dwarf, the typical sound speed is\n",
    "\n",
    "$$\n",
    "\\begin{equation}\n",
    "c_s \\sim \\left( \\frac{G^2m_em_p^3}{\\hbar^2} \\right)^{1/2} \\left( \\frac{M}{M_p} \\right)^{2/3}\n",
    "\\end{equation}\n",
    "$$\n",
    "\n",
    "and the sound crossing time is\n",
    "\n",
    "$$\n",
    "\\begin{equation}\n",
    "t \\sim \\frac{R}{c_s} \\sim \\frac{\\hbar^3}{G^2m_e^2m_p^2} \\left( \\frac{m_e}{m_p} \\right)^{1/2} \\frac{1}{M} .\n",
    "\\end{equation}\n",
    "$$\n",
    "\n",
    "What is the shortest possible sound crossing time for a white dwarf? How does this timescale compare to the shortest known pulsar periods?"
   ]
  }
 ],
 "metadata": {
  "kernelspec": {
   "display_name": "Python 3 (ipykernel)",
   "language": "python",
   "name": "python3"
  },
  "language_info": {
   "codemirror_mode": {
    "name": "ipython",
    "version": 3
   },
   "file_extension": ".py",
   "mimetype": "text/x-python",
   "name": "python",
   "nbconvert_exporter": "python",
   "pygments_lexer": "ipython3",
   "version": "3.9.12"
  }
 },
 "nbformat": 4,
 "nbformat_minor": 5
}
