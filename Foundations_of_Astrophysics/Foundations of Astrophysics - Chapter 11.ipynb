{
 "cells": [
  {
   "cell_type": "markdown",
   "id": "7b147405",
   "metadata": {},
   "source": [
    "#### 11.1 \n",
    "\n",
    "The asteroid Eugenia has a small natural satellite orbiting it. The orbital period of the satellite is $P =$ 4.76 days. The semimajor axis of its orbit is $a =$ 1180 km. What is the mass of Eugenia? (Hint: it is safe to assume that the mass of the satellite is tiny compared to the mass of Eugenia.)"
   ]
  },
  {
   "cell_type": "markdown",
   "id": "dbf7fca5",
   "metadata": {},
   "source": [
    "#### 11.2 \n",
    "\n",
    "A cometary nucleus rotates rapidly and has an albedo $A =$ 0.05. When its surface temperature reaches $T ≈$ 150 K, the ice of which it’s mostly made starts to sublime and forms a gaseous coma. How far is the cometary nucleus from the Sun when the coma starts to form?"
   ]
  },
  {
   "cell_type": "markdown",
   "id": "a6673e9c",
   "metadata": {},
   "source": [
    "#### 11.3 \n",
    "\n",
    "The Oort cloud is thought to contain as many as 10$^{12}$ cometary bodies. Estimate the total mass of the Oort cloud and compare it to the mass of the Earth. State the assumptions made in your calculation."
   ]
  },
  {
   "cell_type": "markdown",
   "id": "ba6a44c3",
   "metadata": {},
   "source": [
    "#### 11.4\n",
    "\n",
    "Imagine a regulation bowling ball (mass $m =$ 7.2 kg, diameter $d =$ 21.6 cm) orbiting the Sun at $a = 1$ AU. How long will it take the Poynting–Robertson effect to cause the bowling ball to spiral into the Sun?"
   ]
  },
  {
   "cell_type": "markdown",
   "id": "b3a3e004",
   "metadata": {},
   "source": [
    "#### 11.5 \n",
    "\n",
    "In Section 4.3.2, we computed the Hill radius of the Earth, that is, the maximum stable radius of a satellite around the Earth, given the differential tidal force provided by the Sun. What is the maximum stable radius of a comet around the Sun, given the differential tidal force provided by the Alpha Centauri system, which has $M ≈ 2M_⊙$? In view of this calculation, what do you expect the approximate radius of the Oort cloud to be?"
   ]
  },
  {
   "cell_type": "markdown",
   "id": "73ecb871",
   "metadata": {},
   "source": [
    "#### 11.6\n",
    "\n",
    "An asteroid is 3 AU away from the Sun when it is observed from the Earth at opposition. How large does the asteroid have to be in order to occult a Sun-like star at a distance $d =$ 10?"
   ]
  },
  {
   "cell_type": "markdown",
   "id": "ad17ca73",
   "metadata": {},
   "source": [
    "#### 11.7 \n",
    "\n",
    "Comet Halley has a perihelion distance $q =$ 0.586 AU and orbital eccentricity $e =$ 0.967.\n",
    "\n",
    "(a) What is the semimajor axis of its orbit?\n",
    "\n",
    "(b) What is its orbital speed at perihelion?\n",
    "\n",
    "(c) What is its aphelion distance?\n",
    "\n",
    "(d) What is its orbital speed at aphelion?"
   ]
  },
  {
   "cell_type": "markdown",
   "id": "1b64bd9e",
   "metadata": {},
   "source": [
    "#### 11.8 \n",
    "\n",
    "The Wilkinson Microwave Anisotropy Probe, which we encounter again in Chapter 24, is a satellite located near the L$_2$ point of the Sun–Earth system, 1.5 million km “downSun” of the Earth (see Figure 11.3 below). It is protected from solar radiation by a circular sunshield with diameter $d =$ 4.5 m.\n",
    "\n",
    "<img title=\"a title\" alt=\"Alt text\" src=\"figure_11_3.PNG\" width=400>\n",
    "\n",
    "(a) Calculate the radiation force exerted on the sunshield. (For simplicity, assume that the shield is perpendicular to the Sun’s rays, that it absorbs every photon that strikes it, and that it’s outside the Earth’s penumbra.)\n",
    "\n",
    "(b) The satellite and sunshield together have a mass $m =$ 830 kg. What is their acceleration as a result of the radiation force?\n",
    "\n",
    "(c) Estimate the force exerted by the solar wind on the sunshield. Is this greater than or less than the radiation force?"
   ]
  }
 ],
 "metadata": {
  "kernelspec": {
   "display_name": "Python 3 (ipykernel)",
   "language": "python",
   "name": "python3"
  },
  "language_info": {
   "codemirror_mode": {
    "name": "ipython",
    "version": 3
   },
   "file_extension": ".py",
   "mimetype": "text/x-python",
   "name": "python",
   "nbconvert_exporter": "python",
   "pygments_lexer": "ipython3",
   "version": "3.9.12"
  }
 },
 "nbformat": 4,
 "nbformat_minor": 5
}
