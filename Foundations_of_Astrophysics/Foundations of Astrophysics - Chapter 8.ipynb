{
 "cells": [
  {
   "cell_type": "markdown",
   "id": "fed333db",
   "metadata": {},
   "source": [
    "#### 8.1\n",
    "\n",
    "What is the mean mass density $\\overline{\\rho}$ of Saturn’s largest satellite, Titan? What does this suggest about the composition of Titan?"
   ]
  },
  {
   "cell_type": "markdown",
   "id": "fde92ff3",
   "metadata": {},
   "source": [
    "#### 8.2\n",
    "\n",
    "Radioactive decay of elements in the Earth’s interior results in a mean heat flux through the Earth’s surface of 5 $\\times$ 10$^{-2}$ W m$^{-2}$. What is this flux expressed as a fraction of the energy flux due to thermal re-radiation of absorbed solar energy? If radioactive decay were the *only* heat source for the Earth, what would the Earth’s surface temperature be?"
   ]
  },
  {
   "cell_type": "markdown",
   "id": "85c576a5",
   "metadata": {},
   "source": [
    "#### 8.3\n",
    "\n",
    "Mercury has an orbit with semimajor axis $a =$ 0.387 AU and eccentricity $e =$ 0.206. Mercury is a slowly rotating planet with no atmosphere. What is the temperature of the subsolar point on Mercury at aphelion? What is the temperature of the subsolar point on Mercury at perihelion? (The “subsolar point” is the location on the planet’s surface where the Sun is at the zenith.)"
   ]
  },
  {
   "cell_type": "markdown",
   "id": "8ae46934",
   "metadata": {},
   "source": [
    "#### 8.4 \n",
    "\n",
    "Pure, solid water ice has an albedo $A$ $\\approx$ 0.35. What is the minimum distance from the Sun at which a rapidly rotating ice cube would remain frozen? Between which two planets does this distance lie?"
   ]
  },
  {
   "cell_type": "markdown",
   "id": "4b1a9161",
   "metadata": {},
   "source": [
    "#### 8.5 \n",
    "\n",
    "Suppose that Uranus were moved to the location of Jupiter; would Uranus then retain its hydrogen-rich atmosphere?"
   ]
  },
  {
   "cell_type": "markdown",
   "id": "5a974b61",
   "metadata": {},
   "source": [
    "#### 8.6 \n",
    "\n",
    "Because Venus has a very feeble magnetic field, the solar wind collides with its atmosphere, instead of being deflected by magnetic forces. Suppose that if a solar wind particle strikes the atmosphere of Venus, all its kinetic energy will be absorbed.\n",
    "\n",
    "(a) What is the rate, in watts, at which Venus absorbs energy from the solar wind? Assume that the energy density of the solar wind is\n",
    "\n",
    "$$\n",
    "\\begin{equation}\n",
    "\\rho  v^2 / 2 = 2 × 10^{−9} \\, \\text{J m}^{−3}, \n",
    "\\end{equation}\n",
    "$$\n",
    "\n",
    "and that the solar wind speed is $v =$ 400 km s$^{−1}$.\n",
    "\n",
    "(b) What is the rate, in watts, at which Venus absorbs energy from sunlight? Is the solar wind a significant heat source for Venus?"
   ]
  },
  {
   "cell_type": "markdown",
   "id": "34b4a385",
   "metadata": {},
   "source": [
    "#### 8.7 \n",
    "\n",
    "Jupiter’s moon Callisto is slowly rotating and has a low albedo ($A$ $\\approx$ 0.2). What is the temperature of Callisto’s subsolar point? Would you expect Callisto to retain an atmosphere of N$_2$? What about an atmosphere of He? (Hint: you may assume that the exobase lies at the surface of Callisto.)"
   ]
  }
 ],
 "metadata": {
  "kernelspec": {
   "display_name": "Python 3 (ipykernel)",
   "language": "python",
   "name": "python3"
  },
  "language_info": {
   "codemirror_mode": {
    "name": "ipython",
    "version": 3
   },
   "file_extension": ".py",
   "mimetype": "text/x-python",
   "name": "python",
   "nbconvert_exporter": "python",
   "pygments_lexer": "ipython3",
   "version": "3.9.12"
  }
 },
 "nbformat": 4,
 "nbformat_minor": 5
}
