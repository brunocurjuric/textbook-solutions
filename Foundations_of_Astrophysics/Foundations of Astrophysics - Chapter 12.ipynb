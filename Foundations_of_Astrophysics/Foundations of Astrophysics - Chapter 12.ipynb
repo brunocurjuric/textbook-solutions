{
 "cells": [
  {
   "cell_type": "markdown",
   "id": "ff9676a1",
   "metadata": {},
   "source": [
    "#### 12.1 \n",
    "\n",
    "What would be the minimum Earth–Moon distance at which the center of mass of the Earth–Moon system would lie outside the Earth’s surface?"
   ]
  },
  {
   "cell_type": "markdown",
   "id": "17c2fdf2",
   "metadata": {},
   "source": [
    "#### 12.2 \n",
    "\n",
    "The star 51 Pegasi has a mass $M_\\text{A} = 1.06 M_⊙$. Its radial velocity varies sinusoidally with a period $P =$ 4.23 days and an amplitude $v_\\text{A}$ sin $i$  $= 56$ m s$^{−1}$. What is $M_\\text{B}$ $\\text{sin}$ $i$ of the exoplanet causing these velocity variations?"
   ]
  },
  {
   "cell_type": "markdown",
   "id": "7bbf20f9",
   "metadata": {},
   "source": [
    "#### 12.3 \n",
    "\n",
    "What fractional decrease in flux, $\\delta F/F$, would be caused by an Earth-like planet transiting a Sun-like star? If a transit of the Earth across the Sun were viewed by a very distant observer in the Earth’s orbital plane, how long would the transit last?"
   ]
  },
  {
   "cell_type": "markdown",
   "id": "b9926c62",
   "metadata": {},
   "source": [
    "#### 12.4 \n",
    "\n",
    "Compute the ratio of Jupiter’s luminosity to the Sun’s luminosity, $L_{ν,\\text{Jup}}$/$L_{ν,⊙}$, at a wavelength $λ = 20 \\ \\mu$m."
   ]
  },
  {
   "cell_type": "markdown",
   "id": "4f1f3dc5",
   "metadata": {},
   "source": [
    "#### 12.5 \n",
    "\n",
    "What is the rotational angular momentum of Jupiter? What is the sum of the orbital angular momenta of the four Galilean satellites? Explain how the analogy of a “solar system in miniature” breaks down here."
   ]
  },
  {
   "cell_type": "markdown",
   "id": "43d955bd",
   "metadata": {},
   "source": [
    "#### 12.6 \n",
    "\n",
    "While doing a transit study, you find an exoplanet around a nearby Sun-like star. The time between transits is $P =$ 32 days. During a transit, the time from first to second contact is $t_2 − t_1 = 30$ minutes and the time from first to third contact is $t_3 − t_1 = 5$ hours. The depth of the transit is $\\delta F/F = 0.01$. Doing follow-up radial velocity measurements of the star, you find that its peak radial velocity is $v_r = 65$ $\\text{m s}^{−1}$.\n",
    "\n",
    "(a) What is the radius of the planet?\n",
    "\n",
    "(b) What is the mass of the planet?\n",
    "\n",
    "(c) What is the semimajor axis of the planet’s orbit?"
   ]
  }
 ],
 "metadata": {
  "kernelspec": {
   "display_name": "Python 3 (ipykernel)",
   "language": "python",
   "name": "python3"
  },
  "language_info": {
   "codemirror_mode": {
    "name": "ipython",
    "version": 3
   },
   "file_extension": ".py",
   "mimetype": "text/x-python",
   "name": "python",
   "nbconvert_exporter": "python",
   "pygments_lexer": "ipython3",
   "version": "3.9.12"
  }
 },
 "nbformat": 4,
 "nbformat_minor": 5
}
