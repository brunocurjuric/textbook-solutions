{
 "cells": [
  {
   "cell_type": "markdown",
   "id": "51c192fb",
   "metadata": {},
   "source": [
    "#### 3.1 \n",
    "\n",
    "Comet Hale-Bopp has an orbit about the Sun with eccentricity *e* = 0.9951 and semimajor axis length *a* = 186.5 AU. What is the sidereal orbital period of Comet Hale-Bopp? What is Comet Hale-Bopp’s distance from the Sun at perihelion? What is its distance from the Sun at aphelion? Comet Hale-Bopp passed through perihelion on 1997 April 1; did the previous perihelion passage of Comet Hale-Bopp occur before or after the birth of Aristotle?"
   ]
  },
  {
   "cell_type": "markdown",
   "id": "360bc3e2",
   "metadata": {},
   "source": [
    "#### 3.2 \n",
    "\n",
    "The asteroid Eros is seen in opposition from the Earth once every 847 days. What is the sidereal orbital period of Eros? What is the length *a* of the semimajor axis of Eros’ orbit? The eccentricity of the orbit of Eros is *e* = 0.223. Does Eros ever come within 1 AU of the Sun?"
   ]
  },
  {
   "cell_type": "markdown",
   "id": "62b847ce",
   "metadata": {},
   "source": [
    "#### 3.3 \n",
    "\n",
    "Consider a satellite in a circular, low-Earth orbit; that is, the satellite’s elevation above the Earth’s surface is *h* $\\ll$ *R*$_\\oplus$. Show that the orbital period *P* for such a satellite is approximately\n",
    "\n",
    "<p style=\"text-align: center;\"> $P = C \\left(1+ \\frac{3h}{R_\\oplus}\\right)$ . </p>\n",
    "\n",
    "What is the numerical value of the constant *C* in minutes? When Puck, in *A Midsummer Night’s Dream*, boasted, “I’ll put a girdle round about the Earth in forty minutes” (Act 2, Scene 1), could he have done so by traveling on a circular\n",
    "orbit, accelerated by the Earth’s gravity alone? If so, what would be his elevation *h*?"
   ]
  },
  {
   "cell_type": "markdown",
   "id": "5044a718",
   "metadata": {},
   "source": [
    "#### 3.4 \n",
    "\n",
    "What is the orbital period for a low-*lunar* orbit (as was used by the Apollo command modules)?"
   ]
  },
  {
   "cell_type": "markdown",
   "id": "1b746dbe",
   "metadata": {},
   "source": [
    "#### 3.5\n",
    "\n",
    "(a) Io is the innermost Galilean satellite of Jupiter. The orbital period of Io is *P* = 1.769 days; the semimajor axis of its orbit is *a* = 421,600 km (slightly larger than the Moon’s orbit about the Earth). Given this information, find the mass of Jupiter.\n",
    "\n",
    "(b) Phobos is the inner moon of Mars. The orbital period of Phobos is *P* = 0.32 days; the semimajor axis of its orbit is *a* = 9370 km. Find the mass of Mars. (Hint: you may assume the masses of Io and Phobos are negligible compared to those of their parent planets.)"
   ]
  },
  {
   "cell_type": "markdown",
   "id": "edf40855",
   "metadata": {},
   "source": [
    "#### 3.6 \n",
    "\n",
    "Communications and weather satellites are often placed in *geosynchronous* orbits. A geosynchronous orbit is an orbit about the Earth with orbital period *P* exactly equal to one sidereal day. What is the semimajor axis $a_{gs}$ of a geosynchronous orbit? What is the orbital velocity $v_{gs}$ of a satellite on a circular geosynchronous orbit?"
   ]
  },
  {
   "cell_type": "markdown",
   "id": "64e90ac9",
   "metadata": {},
   "source": [
    "#### 3.7 \n",
    "\n",
    "Starting with the equation for an ellipse in polar coordinates (eq. 3.42, given below), derive the more familiar Cartesian form,\n",
    "\n",
    "<p style=\"text-align: center;\"> $\\frac{x^2}{a^2} + \\frac{y^2}{b^2} = 1$. </p>\n",
    "\n",
    "Equation 3.42:\n",
    "\n",
    "<p style=\"text-align: center;\"> $r = \\frac{a \\, (1-e^2)}{1 \\, + \\, e \\, \\text{cos} \\, \\theta}$ </p>"
   ]
  },
  {
   "cell_type": "markdown",
   "id": "70cefa29",
   "metadata": {},
   "source": [
    "#### 3.8\n",
    "\n",
    "The *Hubble Space Telescope (HST)* is on a circular, low-Earth orbit, at an elevation *h* = 600 km above the Earth’s surface. What is its orbital period? For an observer who sees *HST* pass through the zenith, how long is *HST* above the horizon during each orbit?"
   ]
  },
  {
   "cell_type": "markdown",
   "id": "89e9cf28",
   "metadata": {},
   "source": [
    "#### 3.9 \n",
    "\n",
    "One way of lifting a satellite into geosynchronous orbit is to use the space shuttle to lift it into a circular, low-Earth orbit (with *h* = 300 km above the Earth’s surface), and then use a booster rocket to place the satellite on a Hohmann transfer orbit (see Section 3.3) up to a circular geosynchronous orbit. What is the orbital velocity $v_{ss}$ of the satellite while it is still in low-Earth orbit? What is the orbital velocity at pericenter, $v_{pe}$, of the appropriate Hohmann transfer orbit? What is the orbital velocity at apocenter, $v_{ap}$, of the Hohmann transfer orbit? How long does it take the satellite to travel from the low-Earth orbit to the geosynchronous orbit?"
   ]
  },
  {
   "cell_type": "markdown",
   "id": "8c2fd29a",
   "metadata": {},
   "source": [
    "#### 3.10 \n",
    "\n",
    "A small particle of mass *m* is on a circular orbit of radius *R* around a much larger mass *M*. Suppose that we suddenly increase the speed at which the mass *m* is moving, by a factor $\\alpha$ (that is, $v_{\\text{final}}$ = $\\alpha v_{\\text{initial}}$, with $\\alpha$ > 1). Compute the major axis, minor axis, pericenter distance, and apocenter distance for the new orbit; express your answers in terms of *R* and $\\alpha$ alone."
   ]
  }
 ],
 "metadata": {
  "kernelspec": {
   "display_name": "Python 3 (ipykernel)",
   "language": "python",
   "name": "python3"
  },
  "language_info": {
   "codemirror_mode": {
    "name": "ipython",
    "version": 3
   },
   "file_extension": ".py",
   "mimetype": "text/x-python",
   "name": "python",
   "nbconvert_exporter": "python",
   "pygments_lexer": "ipython3",
   "version": "3.9.12"
  }
 },
 "nbformat": 4,
 "nbformat_minor": 5
}
