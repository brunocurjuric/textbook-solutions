{
 "cells": [
  {
   "cell_type": "markdown",
   "id": "9b99977f",
   "metadata": {},
   "source": [
    "#### 24.1\n",
    "\n",
    "(a) Given that the current scale factor is $a(t_0) = 1$, at what scale factor did the temperature of the cosmic background radiation equal the temperature of the Sun’s photosphere?\n",
    "\n",
    "(b) At what scale factor did it equal the temperature of the Sun’s center?\n",
    "\n",
    "(c) If the current mass density of the universe is equal to $0.3\\rho_{c,0}$, what was the mass density of the universe when the temperature was equal to that of the Sun’s center? Compare this mass density to the average density of the Sun."
   ]
  },
  {
   "cell_type": "markdown",
   "id": "c71d2c33",
   "metadata": {},
   "source": [
    "#### 24.2 \n",
    "\n",
    "Explicitly calculate the redshifts for the following:\n",
    "\n",
    "(a) The universe goes from radiation-dominated to matter-dominated.\n",
    "\n",
    "(b) The universe goes from matter-dominated to dark-energy-dominated"
   ]
  },
  {
   "cell_type": "markdown",
   "id": "c810dfcd",
   "metadata": {},
   "source": [
    "#### 24.3 \n",
    "\n",
    "At the time this problem was written, the highest-redshift quasar known was CFHQS J2329-0301, which has a redshift $z = 6.43$.\n",
    "\n",
    "(a) What was the scale factor $a$ of the universe at the time the quasar light we are observing now left the quasar?\n",
    "\n",
    "(b) How old was the universe at the time the light left the quasar?\n",
    "\n",
    "(c) What is the distance modulus of the quasar?"
   ]
  },
  {
   "cell_type": "markdown",
   "id": "18fb2f89",
   "metadata": {},
   "source": [
    "#### 24.4 \n",
    "\n",
    "Suppose that star formation stops today, everywhere in the universe.\n",
    "\n",
    "(a) At what time $t_\\text{die}$ will the last stars die out?\n",
    "\n",
    "(b) What will be the scale factor $a(t_\\text{die})$ at that time?"
   ]
  },
  {
   "cell_type": "markdown",
   "id": "3590c07a",
   "metadata": {},
   "source": [
    "#### 24.5 \n",
    "\n",
    "Estimate how high the temperature of the universe must be for proton–proton pair production to occur. What was the approximate age of the universe when it had cooled enough for proton–proton pair production to cease?"
   ]
  }
 ],
 "metadata": {
  "kernelspec": {
   "display_name": "Python 3 (ipykernel)",
   "language": "python",
   "name": "python3"
  },
  "language_info": {
   "codemirror_mode": {
    "name": "ipython",
    "version": 3
   },
   "file_extension": ".py",
   "mimetype": "text/x-python",
   "name": "python",
   "nbconvert_exporter": "python",
   "pygments_lexer": "ipython3",
   "version": "3.9.12"
  }
 },
 "nbformat": 4,
 "nbformat_minor": 5
}
