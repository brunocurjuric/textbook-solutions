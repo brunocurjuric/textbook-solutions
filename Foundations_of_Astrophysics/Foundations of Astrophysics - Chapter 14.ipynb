{
 "cells": [
  {
   "cell_type": "markdown",
   "id": "00faa621",
   "metadata": {},
   "source": [
    "#### 14.1 \n",
    "\n",
    "The star 9 Sagittarii is a main sequence star with spectral type O5. Its apparent magnitude is $m_\\text{V} =$ 6.0. What is the distance to 9 Sagittarii (ignoring any extinction by dust)?"
   ]
  },
  {
   "cell_type": "markdown",
   "id": "09adbe11",
   "metadata": {},
   "source": [
    "#### 14.2 \n",
    "\n",
    "At the center of the Sun, the mass density is $\\rho = 1.52 × 10^5$ kg m$^{−3}$ and the mean opacity is $\\kappa =$ 0.12 m$^2$ kg$^{−1}$. What is the mean free path for a photon at the Sun’s center?"
   ]
  },
  {
   "cell_type": "markdown",
   "id": "ca2ffb97",
   "metadata": {},
   "source": [
    "####  14.3\n",
    "\n",
    "Use the equation of hydrostatic equilibrium and the assumption of constant density to compute approximate central pressures for each of the following:\n",
    "\n",
    "(a) a K0 V star ($M = 0.8 M_⊙, R = 0.85 R_⊙$)\n",
    "\n",
    "(b) a K0 III star ($M = 4M_⊙, R = 16 R_⊙$)\n",
    "\n",
    "(c) a K0 I star ($M = 13M_⊙, R = 200R_⊙$)"
   ]
  },
  {
   "cell_type": "markdown",
   "id": "f3f79d7a",
   "metadata": {},
   "source": [
    "#### 14.4 \n",
    "\n",
    "Show explicitly that if the Sun’s photosphere were not ionized, its mean molecular mass would be $\\mu ≈$ 1.25."
   ]
  },
  {
   "cell_type": "markdown",
   "id": "6060e038",
   "metadata": {},
   "source": [
    "#### 14.5 \n",
    "\n",
    "When a Hertzsprung–Russell diagram is constructed from observed data (as in Figure 14.2b, given below), part of the width of the main sequence is due to errors in distance measurements. If a typical uncertainty in parallax is $10\\%$, in which direction and by how much (in magnitudes) will stars typically be displaced from their true positions on the H–R diagram?\n",
    "\n",
    "<img title=\"Figure 14.2b\" alt=\"Figure 14.2b\" src=\"figure_14_2_b.PNG\" width=\"250\"/>"
   ]
  },
  {
   "cell_type": "markdown",
   "id": "99b3899e",
   "metadata": {},
   "source": [
    "#### 14.6 \n",
    "\n",
    "How does surface gravity vary as a function of luminosity along the main sequence?"
   ]
  },
  {
   "cell_type": "markdown",
   "id": "be967624",
   "metadata": {},
   "source": [
    "#### 14.7 \n",
    "\n",
    "Consider the two stars whose properties are described below:\n",
    "\n",
    " Star       | $V$  | $B$ $-$ $V$    | $M_\\text{V}$ | $T_\\text{eff}$$\\,$$(K)$ | Spectral class | $BC$  |\n",
    ":------    |:-----:|:------:   |: --------:    |:--------:          |:-------:       |:-----: |\n",
    "Betelgeuse | 0.45 | 1.50     | -0.60        | 3370              | M2 Ib          | -1.62 |\n",
    "Gliese 887 | 7.35 | 1.48     | 9.76         | 3520              | M2 V           | -1.89 |\n",
    "\n",
    "How much larger in radius is Betelgeuse than Gliese 887?"
   ]
  }
 ],
 "metadata": {
  "kernelspec": {
   "display_name": "Python 3 (ipykernel)",
   "language": "python",
   "name": "python3"
  },
  "language_info": {
   "codemirror_mode": {
    "name": "ipython",
    "version": 3
   },
   "file_extension": ".py",
   "mimetype": "text/x-python",
   "name": "python",
   "nbconvert_exporter": "python",
   "pygments_lexer": "ipython3",
   "version": "3.9.12"
  }
 },
 "nbformat": 4,
 "nbformat_minor": 5
}
