{
 "cells": [
  {
   "cell_type": "markdown",
   "id": "0e82aeaf",
   "metadata": {},
   "source": [
    "#### 9.1 \n",
    "\n",
    "At what elevation does the Earth’s atmospheric pressure fall to 50$\\%$ of its sea-level value? At what elevation is it 10$\\%$ of its sea-level value?"
   ]
  },
  {
   "cell_type": "markdown",
   "id": "5e059025",
   "metadata": {},
   "source": [
    "#### 9.2 \n",
    "\n",
    "What is the Larmor radius $r$$_c$ for electrons in the inner van Allen belt?"
   ]
  },
  {
   "cell_type": "markdown",
   "id": "05890a46",
   "metadata": {},
   "source": [
    "#### 9.3 \n",
    "\n",
    "At what rate, in watts, is the Earth losing rotational kinetic energy due to tidal braking?"
   ]
  },
  {
   "cell_type": "markdown",
   "id": "7787e27e",
   "metadata": {},
   "source": [
    "#### 9.4\n",
    "\n",
    "The continent of Europe (on the Eurasian plate) and the continent of North America (on the North American plate) are moving apart from each other at $v$ $∼$ 3 cm yr$^{−1}$. Estimate how long it has taken them to attain their current separation of *d* $∼$ 4500 km."
   ]
  },
  {
   "cell_type": "markdown",
   "id": "74590a10",
   "metadata": {},
   "source": [
    "#### 9.5 \n",
    "\n",
    "Show explicitly that the half-life $τ_0$ and the decay constant $λ$ of a radioactively unstable isotope are related by $τ_0$ = ln 2$\\,$/ $λ$ ."
   ]
  },
  {
   "cell_type": "markdown",
   "id": "3f44b6fb",
   "metadata": {},
   "source": [
    "#### 9.6 \n",
    "\n",
    "At some point along the line between the Earth’s center and the Moon’s center, the gravitational force exerted by the Earth on a test mass exactly cancels the gravitational force exerted by the Moon. How far is this point from the center of the Earth?"
   ]
  },
  {
   "cell_type": "markdown",
   "id": "84988eda",
   "metadata": {},
   "source": [
    "#### 9.7 \n",
    "\n",
    "(a) Show that if a particle is moving upward with a speed $v$ at the Earth’s exobase, it will reach a maximum height $h = v^2 / (2g)$ above the exobase, where $g = GM_⊕ \\, / R_{ex}^2$ is the gravitational acceleration at the exobase.\n",
    "\n",
    "(b) Show that the typical height reached by a molecule of mass *m* at a temperature *T* will be $h ∼ kT / (mg)$. In the Earth’s exosphere, what is the typical height for N$_2$, O$_2$, and H$_2$? (Assume $T_{\\text{ex}}$ ≈ 1000 K.) Do you expect the oxygen-to-nitrogen ratio to increase or decrease with height in the exosphere?"
   ]
  },
  {
   "cell_type": "markdown",
   "id": "bc1a496a",
   "metadata": {},
   "source": [
    "#### 9.8 \n",
    "\n",
    "We can approximate the Earth as consisting of a dense core 3500 km in radius, containing 31$\\%$ of the Earth’s mass, and a lower-density mantle 2900 km thick, containing 69$\\%$ of the Earth’s mass. With this approximation, what is the moment of inertia of the Earth?"
   ]
  },
  {
   "cell_type": "markdown",
   "id": "6653830c",
   "metadata": {},
   "source": [
    "#### 9.9 \n",
    "\n",
    "If we make the approximation that the Earth’s atmosphere is isothermal, with *T* = 290 K, what is the mass of the Earth’s atmosphere? What is the ratio of the mass of the Earth’s atmosphere to the total mass of the Earth?"
   ]
  },
  {
   "cell_type": "markdown",
   "id": "fe1d1c3d",
   "metadata": {},
   "source": [
    "#### 9.10\n",
    "\n",
    "Imagine an impacting body, traveling at $v$ = 72 km s$^{−1}$, striking the Earth. How large would such an impactor have to be to physically destroy the Earth, that is, to gravitationally unbind it? Consider only the energy requirements."
   ]
  }
 ],
 "metadata": {
  "kernelspec": {
   "display_name": "Python 3 (ipykernel)",
   "language": "python",
   "name": "python3"
  },
  "language_info": {
   "codemirror_mode": {
    "name": "ipython",
    "version": 3
   },
   "file_extension": ".py",
   "mimetype": "text/x-python",
   "name": "python",
   "nbconvert_exporter": "python",
   "pygments_lexer": "ipython3",
   "version": "3.9.12"
  }
 },
 "nbformat": 4,
 "nbformat_minor": 5
}
