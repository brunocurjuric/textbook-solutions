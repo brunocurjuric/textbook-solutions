{
 "cells": [
  {
   "cell_type": "markdown",
   "id": "d2fa9a24",
   "metadata": {},
   "source": [
    "#### 13.1 \n",
    "\n",
    "What is the apparent magnitude of the Sun as seen from Mercury at perihelion? What is the apparent magnitude of the Sun as seen from Eris at aphelion?"
   ]
  },
  {
   "cell_type": "markdown",
   "id": "16425088",
   "metadata": {},
   "source": [
    "#### 13.2 \n",
    "\n",
    "Considering absolute magnitude $M$, apparent magnitude $m$, and distance $d$ or parallax $\\pi′′$, compute the unknown for each of these stars:\n",
    "\n",
    "(a) $m = −1.6$ mag, $d = 4.3$ pc. What is $M$?\n",
    "\n",
    "(b) $M = 14.3$ mag, $m = 10.9$ mag. What is $d$?\n",
    "\n",
    "(c) $m = 5.6$ mag, $d = 88$ pc. What is $M$?\n",
    "\n",
    "(d) $M = −0.9$ mag, $d = 220$ pc. What is $m$?\n",
    "\n",
    "(e) $m = 0.2$ mag, $M = −9.0$ mag. What is $d$?\n",
    "\n",
    "(f) $m = 7.4$ mag, $\\pi′′ = 0.0043′′$. What is $M$?"
   ]
  },
  {
   "cell_type": "markdown",
   "id": "88e11f44",
   "metadata": {},
   "source": [
    "#### 13.3 \n",
    "\n",
    "What are the $angular \\ diameters$ of the following, as seen from the Earth?\n",
    "\n",
    "(a) The Sun, with radius $R = R_⊙ = 7 × 10^5$ km\n",
    "\n",
    "(b) Betelgeuse, with $M_V = −5.5$ mag, $m_V = 0.8$ mag, and $R = 650R_⊙$\n",
    "\n",
    "(c) The galaxy M31, with $R ≈ 30$ kpc at a distance $D ≈ 0.7$ Mpc\n",
    "\n",
    "(d) The Coma cluster of galaxies, with $R ≈ 3$ Mpc at a distance $D ≈ 100$ Mpc"
   ]
  },
  {
   "cell_type": "markdown",
   "id": "f1ea546c",
   "metadata": {},
   "source": [
    "#### 13.4 \n",
    "\n",
    "The Luyten 726-8 star system contains two stars, one with apparent magnitude $m = 12.5$ and the other with $m = 12.9$. What is the combined apparent magnitude of the two stars?"
   ]
  },
  {
   "cell_type": "markdown",
   "id": "6ad8292f",
   "metadata": {},
   "source": [
    "#### 13.5 \n",
    "\n",
    "A cluster of stars contains 100 stars with absolute magnitude $M = 0.0$, 1000 stars with $M = 3.0$, and 10,000 stars with $M = 6.0$. What is the absolute magnitude of the cluster taken as a whole?"
   ]
  },
  {
   "cell_type": "markdown",
   "id": "72cca765",
   "metadata": {},
   "source": [
    "#### 13.6 \n",
    "\n",
    "A visual binary has a parallax $\\pi′′ = 0.4$ arcsec, a maximum separation $a′′ = 6.0$ arcsec, and an orbital period $P = 80$ yr. What is the total mass of the binary system? Assume a circular orbit."
   ]
  },
  {
   "cell_type": "markdown",
   "id": "fa1e0df9",
   "metadata": {},
   "source": [
    "#### 13.7 \n",
    "\n",
    "The stars $\\beta$ Aurigae A and $\\beta$ Aurigae B constitute a double-lined spectroscopic binary with an orbital period $P = 3.96$ days. The radial velocity curves of the two stars have amplitudes $v_\\text{A} \\ \\text{sin} \\ i = 108$ km s$^{−1}$ and $v_\\text{B} \\ \\text{sin} \\ i = 111$ km s$^{−1}$. If $i = 90^◦$, what are the masses of the two stars?"
   ]
  },
  {
   "cell_type": "markdown",
   "id": "2bb90e98",
   "metadata": {},
   "source": [
    "#### 13.8 \n",
    "\n",
    "The star Procyon A has an effective temperature $T_A = 6530$ K and a radius $R_A = 2.06R_⊙$. Its companion Procyon B has a radius $R_B = 0.0096R_⊙$ and an absolute bolometric magnitude $M_\\text{bol,B} = 12.9$.\n",
    "\n",
    "(a) What is the ratio of the two objects’ luminosities?\n",
    "\n",
    "(b) What is the ratio of their surface temperatures?"
   ]
  },
  {
   "cell_type": "markdown",
   "id": "31e4d9e7",
   "metadata": {},
   "source": [
    "#### 13.9 \n",
    "\n",
    "Astronomers often use the approximation that a $1\\%$ change in brightness of a star corresponds to a change of 0.01 magnitudes. Justify this approximation."
   ]
  },
  {
   "cell_type": "markdown",
   "id": "a70284b7",
   "metadata": {},
   "source": [
    "#### 13.10 \n",
    "\n",
    "At visible wavelengths, what is the ratio of the flux of the full Earth as seen from the Moon to the flux of the full Moon as seen from the Earth? (Hint: the albedos of the Earth and the Moon are given in Section 8.2. - given below)\n",
    "\n",
    "<img title=\"Table 8.2 from Section 8.2 with planetary albedos\" alt=\"Planetary albedos\" src=\"table_8_2.PNG\" width=\"250\"/>"
   ]
  },
  {
   "cell_type": "markdown",
   "id": "dda48ab1",
   "metadata": {},
   "source": [
    "#### 13.11 \n",
    "\n",
    "Prove that in an eclipsing binary system, the primary (deeper) eclipse always occurs when the $hotter$ (not necessarily the larger or more luminous) star is eclipsed."
   ]
  },
  {
   "cell_type": "markdown",
   "id": "f44f8ac9",
   "metadata": {},
   "source": [
    "#### 13.12 \n",
    "\n",
    "Show that for a blackbody at low temperatures, the relation between the effective temperature and the $B − V$ color is\n",
    "\n",
    "$$\n",
    "\\begin{equation}\n",
    "    T_\\text{eff} = \\frac{7090 \\ \\text{K}}{(B - V) + 0.71}\n",
    "\\end{equation}\n",
    "$$\n",
    "\n",
    "(Hint: use the Wien approximation, and assume $λ_{\\text{eff},B} = 4450 \\ Å$ and ˚ $λ_{\\text{eff},V} = 5500 \\ Å$.) This relation is a really lousy approximation at high temperatures. Why?"
   ]
  }
 ],
 "metadata": {
  "kernelspec": {
   "display_name": "Python 3 (ipykernel)",
   "language": "python",
   "name": "python3"
  },
  "language_info": {
   "codemirror_mode": {
    "name": "ipython",
    "version": 3
   },
   "file_extension": ".py",
   "mimetype": "text/x-python",
   "name": "python",
   "nbconvert_exporter": "python",
   "pygments_lexer": "ipython3",
   "version": "3.9.12"
  }
 },
 "nbformat": 4,
 "nbformat_minor": 5
}
