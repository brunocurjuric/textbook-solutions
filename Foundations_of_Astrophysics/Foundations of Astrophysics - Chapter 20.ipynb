{
 "cells": [
  {
   "cell_type": "markdown",
   "id": "e74290a5",
   "metadata": {},
   "source": [
    "#### 20.1 \n",
    "\n",
    "At what distance (and at what redshift) does an object 1 kpc across subtend an angle of 1 arcsecond?"
   ]
  },
  {
   "cell_type": "markdown",
   "id": "19100db9",
   "metadata": {},
   "source": [
    "#### 20.2 \n",
    "\n",
    "The Ca II H and K lines have rest wavelengths of $λ_0 = 3968.5$ Å and $3933.6$ Å, respectively. In the spectrum of a galaxy in the cluster Abell 2065 (a.k.a. the Corona Borealis Cluster), the observed wavelengths of the two lines are $λ = 4255.0$ Å and $4217.6$ Å.\n",
    "\n",
    "(a) What is the redshift $z$ of the galaxy?\n",
    "\n",
    "(b) What is the distance to the galaxy?\n",
    "\n",
    "(c) What is the distance modulus of the galaxy?"
   ]
  },
  {
   "cell_type": "markdown",
   "id": "9406caa7",
   "metadata": {},
   "source": [
    "#### 20.3 \n",
    "\n",
    "Rewrite the relation for the distance modulus (equation 13.25, given below) in terms of the redshift $z$ rather than the distance $d$.\n",
    "\n",
    "Equation 13.25:\n",
    "\n",
    "$$\n",
    "\\begin{equation}\n",
    "    m - M = 5 \\, \\text{log}(d \\, / \\, 10 \\ \\text{pc}) \\ .\n",
    "\\end{equation}\n",
    "$$"
   ]
  },
  {
   "cell_type": "markdown",
   "id": "e6abdbcf",
   "metadata": {},
   "source": [
    "#### 20.4 \n",
    "\n",
    "A spiral galaxy, when seen face-on, appears circular; the flux you observe per square arcsecond of the galaxy is given by the relation\n",
    "\n",
    "$$\n",
    "\\begin{equation}\n",
    "    \\Sigma (r) = \\Sigma_0 e^{-r/r_0} ,\n",
    "\\end{equation}\n",
    "$$\n",
    "\n",
    "where $r$ is the distance, in arcseconds, from the center of the galaxy. Show that the total flux you observe from the spiral galaxy is $F = 2\\pi\\Sigma_0r_0^2$."
   ]
  },
  {
   "cell_type": "markdown",
   "id": "2f303e60",
   "metadata": {},
   "source": [
    "#### 20.5 \n",
    "\n",
    "You observe an E0 elliptical galaxy; the flux you observe per square arcsecond of the galaxy is given by the relation\n",
    "\n",
    "$$\n",
    "\\begin{equation}\n",
    "    \\Sigma (r) = \\Sigma_0 \\text{exp} \\left[ -(r/r_0)^{1/4} \\right] ,\n",
    "\\end{equation}\n",
    "$$\n",
    "\n",
    "where $r$ is the distance, in arcseconds, from the center of the galaxy. Show that the total flux you observe from the elliptical galaxy is $F = 8!\\pi\\Sigma_0r_0^2$."
   ]
  },
  {
   "cell_type": "markdown",
   "id": "e4ed3043",
   "metadata": {},
   "source": [
    "#### 20.6 \n",
    "\n",
    "Consider a black hole of mass $M = 10^8M_⊙$. What is the maximum distance at which its radius of influence could be resolved using the Hubble Space Telescope at a wavelength $λ ≈$ 1 $μ$m?"
   ]
  },
  {
   "cell_type": "markdown",
   "id": "174b6f40",
   "metadata": {},
   "source": [
    "#### 20.7 \n",
    "\n",
    "Figure 20.9 (below) shows the rotation curve for the galaxy M87, which is at a distance $d = 16$ Mpc. Just outside $0.1$ arcsec from the center, the rotation curve is approximately Keplerian. Estimate the mass inside this region.\n",
    "\n",
    "<img title=\"Figure 20_9\" alt=\"Figure 20_9\" src=\"figure_20_9.PNG\" width=\"400\"/>"
   ]
  },
  {
   "cell_type": "markdown",
   "id": "8a7a46ce",
   "metadata": {},
   "source": [
    "#### 20.8 \n",
    "\n",
    "At what redshift (and at what distance) do peculiar velocities of galaxies contribute less than $1\\%$ error to the distance measurement?"
   ]
  }
 ],
 "metadata": {
  "kernelspec": {
   "display_name": "Python 3 (ipykernel)",
   "language": "python",
   "name": "python3"
  },
  "language_info": {
   "codemirror_mode": {
    "name": "ipython",
    "version": 3
   },
   "file_extension": ".py",
   "mimetype": "text/x-python",
   "name": "python",
   "nbconvert_exporter": "python",
   "pygments_lexer": "ipython3",
   "version": "3.9.12"
  }
 },
 "nbformat": 4,
 "nbformat_minor": 5
}
