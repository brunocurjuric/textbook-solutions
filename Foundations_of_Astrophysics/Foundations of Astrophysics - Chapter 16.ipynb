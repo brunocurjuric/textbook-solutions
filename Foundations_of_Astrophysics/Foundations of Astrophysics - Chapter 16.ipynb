{
 "cells": [
  {
   "cell_type": "markdown",
   "id": "5f49d00c",
   "metadata": {},
   "source": [
    "#### 16.1 \n",
    "\n",
    "Compute $R = A_V/E(B − V )$, the ratio of total to selective absorption, for the case of Rayleigh scattering, $τ ∝ λ^{−4}$. (This would be appropriate if interstellar dust particles were very small compared to the wavelength of visible light, like aerosols in the Earth’s atmosphere.)"
   ]
  },
  {
   "cell_type": "markdown",
   "id": "e0a99e43",
   "metadata": {},
   "source": [
    "#### 16.2 \n",
    "\n",
    "The Sun emits $5 × 10^{23}$ photons per second with $h ν > 13.6$ eV. If the density of hydrogen atoms in interplanetary space is $n = 10^9$ m$^{−3}$, what is the size of the Sun’s Strömgren sphere? Assume a recombination coefficient $α = 2.6 × 10^{−19}$ m$^3$ s$^{−1}$."
   ]
  },
  {
   "cell_type": "markdown",
   "id": "3c1bb63d",
   "metadata": {},
   "source": [
    "#### 16.3\n",
    "\n",
    "An A0 V star is observed to have $m_V = 14.0$ and $B − V = 1.5$. What is the distance to the star?"
   ]
  },
  {
   "cell_type": "markdown",
   "id": "532527c4",
   "metadata": {},
   "source": [
    "#### 16.4 \n",
    "\n",
    "Dust grains made of graphite will sublime (that is, turn from solid to gas) at a temperature $T ≈ 1500$ K. The albedo of graphite is $A ≈ 0.04$.\n",
    "\n",
    "(a) How close to an O5 V star ($T_\\text{eff} = 42,000$ K, $R = 12R_⊙$) can graphite grains survive?\n",
    "\n",
    "(b) How close to an M2 III star ($T_\\text{eff} = 3540$ K, $R = 0.5R_⊙$) can graphite grains survive?"
   ]
  },
  {
   "cell_type": "markdown",
   "id": "35e54cc7",
   "metadata": {},
   "source": [
    "#### 16.5 \n",
    "\n",
    "Demonstrate that equation (16.28) follows from equations (16.26) and (16.27).\n",
    "\n",
    "Equation 16.28:\n",
    "$$\n",
    "\\begin{equation}\n",
    "    \\langle E \\rangle \\approx h \\nu_0 + kT_* .\n",
    "\\end{equation}\n",
    "$$\n",
    "\n",
    "Equation 16.26:\n",
    "$$\n",
    "\\begin{equation}\n",
    "    \\langle h\\nu \\rangle = kT_* \\left[ \\int_{x_0}^{\\infty} e^{-x} dx \\right] \\left[ \\int_{x_0}^{\\infty} e^{-x} x^{-1} dx \\right]^{-1} .\n",
    "\\end{equation}\n",
    "$$\n",
    "\n",
    "Equation 16.27:\n",
    "$$\n",
    "\\begin{equation}\n",
    "    E_1(x_0) = \\int_{x_0}^{\\infty} \\frac{e^{-x}}{x} dx \\approx \\frac{e^{-x_0}}{x_0} \\left( 1 - \\frac{1}{x_0} + \\frac{2}{x_0^2} +  \\ . . . \\right) .\n",
    "\\end{equation}\n",
    "$$"
   ]
  },
  {
   "cell_type": "markdown",
   "id": "0d5d8ebd",
   "metadata": {},
   "source": [
    "#### 16.6 \n",
    "\n",
    "Suppose that two cold ($T = 100$ K) interstellar clouds of $1M_⊙$ each collide with a relative velocity $v = 10$ km s$^{−1}$, with all the kinetic energy of the collision being converted into heat. What is the temperature of the merged cloud after the collision? You may assume the clouds consist of $ 100\\%$ hydrogen."
   ]
  },
  {
   "cell_type": "markdown",
   "id": "a746e89e",
   "metadata": {},
   "source": [
    "#### 16.7 \n",
    "\n",
    "In general, an F0 main sequence star has absolute magnitude $M_V = 2.7$ and intrinsic color $(B − V )_0 = 0.30$. A specific F0 main sequence star is observed to have $m_V = 12.00$ and $m_B = 12.56$.\n",
    "\n",
    "(a) What is the color excess $E(B − V )$ for this star?\n",
    "\n",
    "(b) What is the extinction $A_V$ for this star? (Assume $R = 3.1$).\n",
    "\n",
    "(c) What is the distance to this star?\n",
    "\n",
    "(d) What distance would you have computed if you had ignored extinction?"
   ]
  },
  {
   "cell_type": "markdown",
   "id": "76b1257e",
   "metadata": {},
   "source": [
    "#### 16.8 \n",
    "\n",
    "Consider the H II region surrounding an O6 V star, as described at the end of Section 16.3.1.\n",
    "\n",
    "(a) What is the recombination time in this H II region?\n",
    "\n",
    "(b) What is the light travel time across the H II region?\n",
    "<br>\n",
    "<br>\n",
    "<br>\n",
    "End of section 16.3.1:\n",
    "\n",
    "Taking as a typical nebular density $n_e ≈ 10^7$ m$^{−3}$, the size of the Stromgren sphere around an O6V star is\n",
    "$$\n",
    "\\begin{equation}\n",
    "    R_\\text{S} = \\left( \\frac{3}{4\\pi} \\frac{5 \\times 10^{48} \\text{s}^{-1}}{(2.6 \\times 10^{-19} \\text{m}^3 \\text{s}^{-1}) (10^7 \\text{m}^{-3})^2}\\right)^{1/3} \\approx 3.4 \\times 10^{17} \\text{m} \\approx 10 \\ \\text{pc}\n",
    "\\end{equation}\n",
    "$$"
   ]
  },
  {
   "cell_type": "markdown",
   "id": "04b58a9a",
   "metadata": {},
   "source": [
    "#### 16.9 \n",
    "\n",
    "We observe an interstellar cloud, with temperature $T = 80$ K and neutral hydrogen density $n_H = 10^8$ m$^{−3}$, at a distance $d = 100$ pc. Suppose that the cloud is spherical and that the column density of neutral hydrogen atoms through its middle is $N_H = 1.5 × 1024$ m$^{−2}$.\n",
    "\n",
    "(a) What is the diameter of the cloud?\n",
    "\n",
    "(b) How many neutral hydrogen atoms are in the cloud?\n",
    "\n",
    "(c) What is the mass of the cloud (in units of $M_⊙$)?\n",
    "\n",
    "(d) If $ 75\\%$ of the atoms are in the higher-energy parallel state, how many 21 cm photons are emitted per second by the cloud?\n",
    "\n",
    "(e) What is the luminosity of the cloud in 21 cm photons (in units of $L_⊙$)?\n",
    "\n",
    "(f) What is the flux in 21 cm photons as seen from Earth?"
   ]
  },
  {
   "cell_type": "markdown",
   "id": "12b35818",
   "metadata": {},
   "source": [
    "#### 16.10 \n",
    "\n",
    "When observing a star behind the interstellar cloud described in Problem (16.9), we detect absorption in the Na I $λ = 5889.973$ Å line. What is the thermal broadening, $\\Deltaλ/λ_0$, of this absorption line? What is the thermal broadening of the same line in the solar spectrum?"
   ]
  }
 ],
 "metadata": {
  "kernelspec": {
   "display_name": "Python 3 (ipykernel)",
   "language": "python",
   "name": "python3"
  },
  "language_info": {
   "codemirror_mode": {
    "name": "ipython",
    "version": 3
   },
   "file_extension": ".py",
   "mimetype": "text/x-python",
   "name": "python",
   "nbconvert_exporter": "python",
   "pygments_lexer": "ipython3",
   "version": "3.9.12"
  }
 },
 "nbformat": 4,
 "nbformat_minor": 5
}
