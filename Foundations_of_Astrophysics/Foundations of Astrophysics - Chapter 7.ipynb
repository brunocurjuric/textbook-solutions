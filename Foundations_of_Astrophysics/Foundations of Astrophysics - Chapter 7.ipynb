{
 "cells": [
  {
   "cell_type": "markdown",
   "id": "5ce5ff45",
   "metadata": {},
   "source": [
    "#### 7.1\n",
    "\n",
    "Using data in this chapter, compute the Larmor radius *r*$_c$ for a typical electron in the K corona."
   ]
  },
  {
   "cell_type": "markdown",
   "id": "c699b2ad",
   "metadata": {},
   "source": [
    "#### 7.2 \n",
    "\n",
    "The thermal energy density of a gas is equal to its number density of particles times the mean kinetic energy $\\langle E \\rangle$ of each particle due to random thermal motions.\n",
    "\n",
    "(a) What is the thermal energy density at the base of the Sun’s photosphere?\n",
    "\n",
    "(b) What is the thermal energy density of the Earth’s atmosphere at sea level (*n* = 2.5 $\\times$ 10$^{25}$ m$^{−3}$ and *T* = 290 K)?"
   ]
  },
  {
   "cell_type": "markdown",
   "id": "0a7ec9f5",
   "metadata": {},
   "source": [
    "#### 7.3\n",
    "\n",
    "At what rate does the solar wind carry kinetic energy away from the Sun? Give your result first in watts, then as a fraction of the Sun’s luminosity in photons, $L_\\odot$ = 3.8 $\\times$ 10$^{26}$ W."
   ]
  },
  {
   "cell_type": "markdown",
   "id": "4962b035",
   "metadata": {},
   "source": [
    "#### 7.4 \n",
    "\n",
    "How many rotations (and how much time) does it take for the equatorial regions of the Sun to “lap” the polar regions by one full rotation?"
   ]
  },
  {
   "cell_type": "markdown",
   "id": "925aae6e",
   "metadata": {},
   "source": [
    "#### 7.5 \n",
    "\n",
    "The normal Zeeman effect splits a spectral line at frequency $\\nu_0$ into three components: a central line at $\\nu_0$ and two satellite lines at $\\nu_0 \\, \\pm eB \\, / \\, (4\\pi m_e)$  . By what amount (in angstroms) are the satellite lines of the hydrogen Balmer $\\alpha$ line ($\\lambda_0$ = 6562.81 $Å$) split from the central component in a typical sunspot?"
   ]
  },
  {
   "cell_type": "markdown",
   "id": "e2429f5f",
   "metadata": {},
   "source": [
    "#### 7.6 \n",
    "\n",
    "A solar flare erupts in a region where the average magnetic field strength is *B* = 0.03 T; the flare releases an energy *E* = 2 $\\times$ 10$^{24}$ J.\n",
    "\n",
    "(a) What was the magnetic energy density in the region prior to the eruption?\n",
    "\n",
    "(b) What was the minimum volume *V* required to supply enough magnetic energy to fuel the flare?\n",
    "\n",
    "(c) If the volume *V* is spherical, what is its radius? Is this greater than or less than the typical radius *r* $\\approx$ 10$^4$ km of a sunspot?"
   ]
  },
  {
   "cell_type": "markdown",
   "id": "01e477e5",
   "metadata": {},
   "source": [
    "#### 7.7 \n",
    "\n",
    "If the entire photosphere of the Sun had $B_\\odot$ = 0.1 T, what would the Alfvén radius of the Sun be? (Hint: assume the properties of the solar wind would be unchanged.) What would be the timescale $\\tau$ for the loss of the Sun’s angular momentum?"
   ]
  },
  {
   "cell_type": "markdown",
   "id": "6d4000b4",
   "metadata": {},
   "source": [
    "#### 7.8 \n",
    "\n",
    "Vertical motions of gas in photospheric granules typically have speeds $v$ $\\sim$ 2 km s$^{−1}$.\n",
    "\n",
    "(a) What angular resolution (in arcseconds) is required to see an individual granule\n",
    "in the Sun’s photosphere?\n",
    "\n",
    "(b) Neutral sodium has a pair of absorption lines at rest wavelength $\\lambda_0$ = 5889.973 $Å$ and 5895.940 $Å$. What is the ratio of the thermal Doppler broadening of these lines to the Doppler shift expected from the vertical motion of the granules?"
   ]
  },
  {
   "cell_type": "markdown",
   "id": "5e72816f",
   "metadata": {},
   "source": [
    "#### 7.9 \n",
    "\n",
    "Imagine a sphere of gas with a uniform number density *n* of gas particles; each particle has a cross-section $\\sigma$. Consider the optical depth $\\tau$ along a path parallel to a line through the sphere’s center, displaced from the center by some distance \n",
    "*z*. Compute $\\tau$($z$) for such paths, then compute d$\\tau\\,$/ d$z$. Explain, given this calculation, why a gaseous sphere can appear to have a very sharp limb."
   ]
  }
 ],
 "metadata": {
  "kernelspec": {
   "display_name": "Python 3 (ipykernel)",
   "language": "python",
   "name": "python3"
  },
  "language_info": {
   "codemirror_mode": {
    "name": "ipython",
    "version": 3
   },
   "file_extension": ".py",
   "mimetype": "text/x-python",
   "name": "python",
   "nbconvert_exporter": "python",
   "pygments_lexer": "ipython3",
   "version": "3.9.12"
  }
 },
 "nbformat": 4,
 "nbformat_minor": 5
}
