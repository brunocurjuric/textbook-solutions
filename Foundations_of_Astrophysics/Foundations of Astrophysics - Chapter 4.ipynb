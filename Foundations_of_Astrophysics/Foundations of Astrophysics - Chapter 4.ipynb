{
 "cells": [
  {
   "cell_type": "markdown",
   "id": "d26514e4",
   "metadata": {},
   "source": [
    "#### 4.1 \n",
    "\n",
    "What is the largest angular distance possible between the center of the Moon’s disk and the ecliptic? What is the largest angular distance possible between the center of the Moon’s disk and the celestial equator? (Give your answers to the nearest tenth of a degree.)"
   ]
  },
  {
   "cell_type": "markdown",
   "id": "cf70f0ac",
   "metadata": {},
   "source": [
    "#### 4.2 \n",
    "\n",
    "How close to the Sun could the planet Jupiter come without suffering tidal disruption?"
   ]
  },
  {
   "cell_type": "markdown",
   "id": "0ce332f5",
   "metadata": {},
   "source": [
    "#### 4.3\n",
    "\n",
    "Compute the differential tidal force $\\Delta$*F* exerted on the Earth by Mars when it’s at opposition. Express your result as a numerical fraction of the differential tidal force exerted by the Moon,\n",
    "\n",
    "$\\Delta F_{\\text{Moon}} = \\frac{2GM_{\\text{Moon}}mR_\\oplus}{r_0^3} $ ,\n",
    "\n",
    "where $r_0$ = 384,000 km = 0.00257 AU is the Earth–Moon distance and *M*$_{\\text{Moon}}$ = 7.2 $\\times$ 10$^{22}$ kg is the mass of the Moon. Repeat to find the differential tidal force $\\Delta$*F* exerted by Jupiter at opposition, also expressed as a fraction of $\\Delta$*F*$_\\text{Moon}$. (Assume that the Moon, Earth, Mars, and Jupiter are on circular coplanar orbits.)"
   ]
  },
  {
   "cell_type": "markdown",
   "id": "339b1ae3",
   "metadata": {},
   "source": [
    "#### 4.4\n",
    "\n",
    "Imagine a test particle of mass *m* at the point on the Earth’s surface closest to the Moon. Compute the ratio of the differential tidal force |$\\Delta \\vec{F}$| acting on this particle at spring tide to the differential tidal force acting at neap tide."
   ]
  },
  {
   "cell_type": "markdown",
   "id": "35795c11",
   "metadata": {},
   "source": [
    "#### 4.5\n",
    "\n",
    "A satellite orbits a planet; at the same time, the satellite–planet system orbits a star. Show that if the satellite–planet distance is less than the Hill radius, the sidereal period of the satellite about the planet must be shorter than the sidereal period of the satellite–planet system about the star. (You may assume circular coplanar orbits.)"
   ]
  },
  {
   "cell_type": "markdown",
   "id": "5e70475f",
   "metadata": {},
   "source": [
    "#### 4.6\n",
    "\n",
    "Given the amplitudes of lunar librations given in the text, demonstrate that over time 59% of the lunar surface can be seen from the Earth."
   ]
  },
  {
   "cell_type": "markdown",
   "id": "010f6a76",
   "metadata": {},
   "source": [
    "#### 4.7\n",
    "\n",
    "In the timeline used by geologists, the Cambrian period began 542 million years ago. What was the length of the apparent solar day at the beginning of the Cambrian period? (Assume that the slowing of the Earth’s rotation, $d P_{\\text{rot}} \\big/ dt$, has been constant.)"
   ]
  },
  {
   "cell_type": "markdown",
   "id": "8068cf48",
   "metadata": {},
   "source": [
    "#### 4.8\n",
    "\n",
    "The Earth will be in synchronous rotation with the Moon once its rotation period has increased to 47 days.\n",
    "\n",
    "(a) How far away will the Moon be from the Earth when this happens?\n",
    "\n",
    "(b) How long will it be until the Earth attains this synchronous rotation, assuming that $d P_{\\text{rot}} \\big/ dt$ is approximately constant?"
   ]
  },
  {
   "cell_type": "markdown",
   "id": "62ea98c3",
   "metadata": {},
   "source": [
    "#### 4.9\n",
    "\n",
    "Standing at the Kennedy Space Center (latitude 28$^◦$ N), you notice the third quarter Moon at your zenith.\n",
    "\n",
    "(a) Approximately what time of day is it?\n",
    "\n",
    "(b) Approximately what time of year is it?\n",
    "\n",
    "(c) Half a synodic month later, what will be the altitude of the first quarter Moon when it makes its upper transit?"
   ]
  }
 ],
 "metadata": {
  "kernelspec": {
   "display_name": "Python 3 (ipykernel)",
   "language": "python",
   "name": "python3"
  },
  "language_info": {
   "codemirror_mode": {
    "name": "ipython",
    "version": 3
   },
   "file_extension": ".py",
   "mimetype": "text/x-python",
   "name": "python",
   "nbconvert_exporter": "python",
   "pygments_lexer": "ipython3",
   "version": "3.9.12"
  }
 },
 "nbformat": 4,
 "nbformat_minor": 5
}
