{
 "cells": [
  {
   "cell_type": "markdown",
   "id": "76bc2b07",
   "metadata": {},
   "source": [
    "#### 1.1 \n",
    "\n",
    "The Polynesian inhabitants of the Pacific reportedly held festivals whenever the Sun was at the zenith at local noon. How many times per year was such a festival held? At what time(s) of year was the festival held on Tahiti? At what time(s) of year was it held on Oahu? (Hint: any reputable world atlas will give you the latitude of Tahiti and Oahu. You may also find the information in Figure 1.13 useful (given below).)\n",
    "\n",
    "![Figure 1.13](figure_1_13_1.PNG)"
   ]
  },
  {
   "cell_type": "markdown",
   "id": "9e62dca0",
   "metadata": {},
   "source": [
    "##### 1.2 \n",
    "\n",
    "The right ascension and declination of the seven stars of the Big Dipper are given below.\n",
    "\n",
    "![table_1_2](problem_1_2.png)\n",
    "\n",
    "For what range of latitudes are all the stars of the Big Dipper circumpolar? What is the southernmost latitude from which all of the stars of the Big Dipper can be seen? For what range of latitudes are none of the stars of the Big Dipper ever seen above the horizon?"
   ]
  },
  {
   "cell_type": "markdown",
   "id": "39efcb8d",
   "metadata": {},
   "source": [
    "#### 1.3 \n",
    "\n",
    "Columbus, Ohio, is in the Eastern Time Zone, for which the civil time is equal to the\n",
    "mean solar time along the 75$^◦$ W meridian of longitude.\n",
    "\n",
    "(a) Ignoring daylight saving time for the moment, are there any days of the year when\n",
    "civil noon (as shown by a clock) is the same as apparent local noon (as shown by\n",
    "the Sun) in the city of Columbus? If so, what day or days are they?\n",
    "\n",
    "(b) Daylight saving time advances the clock by one hour from the second Sunday\n",
    "in March to the first Sunday in November (“Spring forward, fall back”). When\n",
    "daylight saving time is in effect, are there any days of the year when civil noon is\n",
    "the same as apparent local noon in the city of Columbus? If so, what day or days\n",
    "are they?"
   ]
  },
  {
   "cell_type": "markdown",
   "id": "e6a71d03",
   "metadata": {},
   "source": [
    "#### 1.4\n",
    "\n",
    "Suppose you’ve been granted access to a large telescope during the last week in September. One of the two objects you want to observe is in the constellation Virgo; the other is in the constellation Pisces. You only have time to observe one object: which should you choose? Please explain your answer."
   ]
  },
  {
   "cell_type": "markdown",
   "id": "4890b823",
   "metadata": {},
   "source": [
    "#### 1.5 \n",
    "\n",
    "In *The Old Man and the Sea*, Hemingway described the old man lying in his boat off the coast of Cuba, looking up at the sky just after sunset: “It was dark now as it becomes dark quickly after the Sun sets in September. He lay against the worn wood of the bow and rested all that he could. The first stars were out. He did not know the name of Rigel but he saw it and knew soon they would all be out and he would have all his distant friends.” Explain what is astronomically incorrect about this passage. (Hint: what are the celestial coordinates of the star Rigel?)"
   ]
  },
  {
   "cell_type": "markdown",
   "id": "0ff4cc89",
   "metadata": {},
   "source": [
    "#### 1.6 \n",
    "\n",
    "(a) Consider two points on the Earth’s surface that are separated by 1 arcsecond as seen from the center of the (assumed to be transparent) Earth. What is the physical distance between the two points?\n",
    "\n",
    "(b) Consider two points on the Earth’s equator that are separated by 1 second of time. What is the physical distance between the two points?"
   ]
  },
  {
   "cell_type": "markdown",
   "id": "65e1f86a",
   "metadata": {},
   "source": [
    "#### 1.7 \n",
    "\n",
    "The bright star Mintaka (also known as $\\delta$ Orionis, the westernmost star of Orion’s belt) is extremely close to the celestial equator. Amateur astronomers can determine the field of view of their telescope (that is, the angular width of the region that they can see through the telescope) by timing how long it takes Mintaka to drift through the field of view when the telescope is held stationary in hour angle. How long does it take Mintaka to drift through a 1$^◦$ field of view?"
   ]
  },
  {
   "cell_type": "markdown",
   "id": "af4287f0",
   "metadata": {},
   "source": [
    "#### 1.8 \n",
    "\n",
    "(a) Imagine that technologically advanced, but highly mischievous, space aliens have reduced the tilt of the Earth’s rotation axis from 23.5$^◦$ to 0$^◦$, while leaving the Earth’s orbit unchanged. Sketch the analemma in this case.\n",
    "\n",
    "(b) Now imagine that the aliens have restored the axial tilt to its previous value of 23.5$^◦$ but have changed the Earth’s orbit to a perfect circle, with the Earth’s orbital speed being constant over the course of a year. Sketch the analemma in this case.\n",
    "\n",
    "(c) The martian analemma is shown in Figure 1.15 (given below). What is the tilt of the rotation axis of Mars?\n",
    "\n",
    "![Figure 1.15](figure_1_15.png)"
   ]
  },
  {
   "cell_type": "markdown",
   "id": "dd5e0e7c",
   "metadata": {},
   "source": [
    "#### 1.9 \n",
    "\n",
    "How many square degrees are on the complete celestial sphere?"
   ]
  }
 ],
 "metadata": {
  "kernelspec": {
   "display_name": "Python 3 (ipykernel)",
   "language": "python",
   "name": "python3"
  },
  "language_info": {
   "codemirror_mode": {
    "name": "ipython",
    "version": 3
   },
   "file_extension": ".py",
   "mimetype": "text/x-python",
   "name": "python",
   "nbconvert_exporter": "python",
   "pygments_lexer": "ipython3",
   "version": "3.9.12"
  }
 },
 "nbformat": 4,
 "nbformat_minor": 5
}
