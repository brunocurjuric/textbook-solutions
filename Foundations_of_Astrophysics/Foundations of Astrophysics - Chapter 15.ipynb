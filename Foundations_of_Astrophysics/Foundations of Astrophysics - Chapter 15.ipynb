{
 "cells": [
  {
   "cell_type": "markdown",
   "id": "e3a3a1d5",
   "metadata": {},
   "source": [
    "#### 15.1 \n",
    "\n",
    "What is the rate (in kilograms per second) at which the Sun is currently converting hydrogen into helium?"
   ]
  },
  {
   "cell_type": "markdown",
   "id": "48a26b48",
   "metadata": {},
   "source": [
    "#### 15.2 \n",
    "\n",
    "How much energy, in MeV, is produced per proton in the PP chain?"
   ]
  },
  {
   "cell_type": "markdown",
   "id": "463266b7",
   "metadata": {},
   "source": [
    "#### 15.3 \n",
    "\n",
    "Approximately half the original hydrogen in the Sun’s core has now been converted to helium. Compute the mean molecular mass $\\mu$ (a) at the surface of the Sun, given standard abundances ($X_⊙ = 0.734, Y_⊙ = 0.250, Z_⊙ = 0.016$), and (b) at the center of the Sun."
   ]
  },
  {
   "cell_type": "markdown",
   "id": "d830131d",
   "metadata": {},
   "source": [
    "#### 15.4 \n",
    "\n",
    "If a star has $M = 100M_⊙$ and $L = 106L_⊙$, how long can it shine at that luminosity if it started as pure hydrogen and is able to convert all its H to He? If a star has $M = 0.5M_⊙$ and $L = 0.1L_⊙$, how long can it shine under the same conditions?"
   ]
  },
  {
   "cell_type": "markdown",
   "id": "9c083227",
   "metadata": {},
   "source": [
    "#### 15.5 \n",
    "\n",
    "Consider the Sun to be a sphere of uniform density that derives its luminosity from steady contraction. What fractional decrease in the Sun’s radius, $\\delta R/R$, would be required over historical times (say, the last 6000 years) to account for the Sun’s constant luminosity over that period of time?"
   ]
  },
  {
   "cell_type": "markdown",
   "id": "d0c1dc12",
   "metadata": {},
   "source": [
    "#### 15.6 \n",
    "\n",
    "Suppose that the Sun is $100\\%$ carbon (coal, for instance) and that burning this can extract 3 eV per carbon nucleus. How long, assuming an inexhaustible supply of oxygen from outside, could burning carbon maintain the Sun’s current luminosity?"
   ]
  },
  {
   "cell_type": "markdown",
   "id": "8783fd33",
   "metadata": {},
   "source": [
    "#### 15.7 \n",
    "\n",
    "On a clear day, Mount Fuji can be seen from central Tokyo, 100 km away. Under these conditions, what is the maximum possible opacity $\\kappa$ of the atmosphere, in m$^2$ kg$^{−1}$? (Assume that the density of air along the line of sight is $ρ ≈ 1$ kg m$^{−3}$.)"
   ]
  },
  {
   "cell_type": "markdown",
   "id": "b84def69",
   "metadata": {},
   "source": [
    "#### 15.8 \n",
    "\n",
    "Under ideal conditions, scuba divers in clear tropical waters can see objects as far as 50 m away. What is the opacity of the water"
   ]
  },
  {
   "cell_type": "markdown",
   "id": "8a22af1a",
   "metadata": {},
   "source": [
    "#### 15.9 \n",
    "\n",
    "In low-mass main sequence stars, the opacity is due primarily to photoionization of heavy elements. For this case, the opacity can be approximated by Kramers’ law, which is written as\n",
    "\n",
    "$$\n",
    "\\begin{equation}\n",
    "    \\kappa \\propto \\rho T^{-3.5} . \n",
    "\\end{equation}\n",
    "$$\n",
    "\n",
    "Use the equations of stellar structure to show that this implies\n",
    "\n",
    "$$\n",
    "\\begin{equation}\n",
    "    L \\propto M^{5.5} M^{-0.5} . \n",
    "\\end{equation}\n",
    "$$"
   ]
  },
  {
   "cell_type": "markdown",
   "id": "21ea0ee9",
   "metadata": {},
   "source": [
    "#### 15.10 \n",
    "\n",
    "Suppose the mass density of a star as a function of radius is\n",
    "\n",
    "$$\n",
    "\\begin{equation}\n",
    "    \\rho(r) = \\rho_0 \\left[1 - \\left(\\frac{r}{R}\\right)^2 \\right] \n",
    "\\end{equation}\n",
    "$$\n",
    "\n",
    "where $R$ is the radius of the star.\n",
    "\n",
    "(a) Find the mass $M$ of the star in terms of $\\rho_0$ and $R$.\n",
    "\n",
    "(b) Find the mean density of the star in terms of $\\rho_0$.\n",
    "\n",
    "(c) Show that the central pressure of the star is\n",
    "$$\n",
    "\\begin{equation}\n",
    "        P_c = \\frac{15}{16\\pi} \\frac{GM^2}{R^4} . \n",
    "\\end{equation}\n",
    "$$"
   ]
  }
 ],
 "metadata": {
  "kernelspec": {
   "display_name": "Python 3 (ipykernel)",
   "language": "python",
   "name": "python3"
  },
  "language_info": {
   "codemirror_mode": {
    "name": "ipython",
    "version": 3
   },
   "file_extension": ".py",
   "mimetype": "text/x-python",
   "name": "python",
   "nbconvert_exporter": "python",
   "pygments_lexer": "ipython3",
   "version": "3.9.12"
  }
 },
 "nbformat": 4,
 "nbformat_minor": 5
}
