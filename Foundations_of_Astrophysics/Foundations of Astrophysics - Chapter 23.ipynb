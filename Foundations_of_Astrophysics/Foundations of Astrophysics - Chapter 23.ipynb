{
 "cells": [
  {
   "cell_type": "markdown",
   "id": "fafc74a0",
   "metadata": {},
   "source": [
    "#### 23.1 \n",
    "\n",
    "Suppose that we smooth the Earth so that it’s a perfect sphere of radius $R_⊕ = 6371$ km. If we then draw on its surface an equilateral triangle with sides of length $L = 1$ km, what will the sum of the interior angles be?"
   ]
  },
  {
   "cell_type": "markdown",
   "id": "4ca9b124",
   "metadata": {},
   "source": [
    "#### 23.2 \n",
    "\n",
    "Imagine a universe full of regulation basketballs, each with mass $m_\\text{bb} = 0.62$ kg and radius $r_\\text{bb} = 0.12$ m.\n",
    "\n",
    "(a) What number density of basketballs, $n_\\text{bb}$, is required to make the mass density equal to the current critical density, $\\rho_{c,0} = 3H_0^2/(8\\pi G)$?\n",
    "\n",
    "(b) Given this density of basketballs, how far on average would you be able to see in any direction before your line of sight intersected a basketball?\n",
    "\n",
    "(c) In fact, we can see galaxies at a distance $d ≈ c/H_0 ≈ 4300$ Mpc. Does the transparency of the universe on this length scale place useful limits on the number density of intergalactic basketballs?"
   ]
  },
  {
   "cell_type": "markdown",
   "id": "697b1093",
   "metadata": {},
   "source": [
    "#### 23.3 \n",
    "\n",
    "Just as the universe has a cosmic microwave background dating back to the time when the universe was opaque to photons, it has a cosmic *neutrino* background dating back to the earlier time when the universe was opaque to neutrinos. The calculated number density of cosmic neutrinos is $n_\\nu = 3.36 × 10^8$ m$^{−3}$.\n",
    "\n",
    "(a) How many cosmic neutrinos are inside your body right now?\n",
    "\n",
    "(b) What average neutrino mass, mν, would be required to make the mass density of cosmic neutrinos equal to the critical density  $\\rho_{c,0}$?"
   ]
  },
  {
   "cell_type": "markdown",
   "id": "d40d4e05",
   "metadata": {},
   "source": [
    "#### 23.4 \n",
    "\n",
    "Suppose you are in a Newtonian universe whose density is equal to the critical density $\\rho_{c,0}$. The scale factor $a (t)$ is implicitly given by the relation\n",
    "\n",
    "$$\n",
    "\\begin{equation}\n",
    "    \\frac{\\dot{a}^2}{a} = \\frac{8\\pi \\, G\\rho_{c,0}}{3} \\frac{1}{a^3}.\n",
    "\\end{equation}\n",
    "$$\n",
    "\n",
    "(a) What is the functional form of $a(t)$, given the boundary condition $a = 1$ at $t = t_0$?\n",
    "\n",
    "(b) What is $t_0$ in terms of the Hubble constant, $H_0$?\n",
    "\n",
    "(c) In our universe, $H_0 = 70$ km s$^{−1}$ Mpc$^{−1}$ and the oldest stars have an age $t_\\star = 13$ Gyr. Are these two observations consistent with a Newtonian universe that has $\\rho_{0} = \\rho_{c,0}$?"
   ]
  },
  {
   "cell_type": "markdown",
   "id": "03399b5e",
   "metadata": {},
   "source": [
    "#### 23.5 \n",
    "\n",
    "Prove that a redshifted blackbody is still a blackbody but at a temperature $T/(1+ z)$."
   ]
  }
 ],
 "metadata": {
  "kernelspec": {
   "display_name": "Python 3 (ipykernel)",
   "language": "python",
   "name": "python3"
  },
  "language_info": {
   "codemirror_mode": {
    "name": "ipython",
    "version": 3
   },
   "file_extension": ".py",
   "mimetype": "text/x-python",
   "name": "python",
   "nbconvert_exporter": "python",
   "pygments_lexer": "ipython3",
   "version": "3.9.12"
  }
 },
 "nbformat": 4,
 "nbformat_minor": 5
}
