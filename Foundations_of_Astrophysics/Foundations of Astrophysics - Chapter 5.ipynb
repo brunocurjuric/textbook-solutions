{
 "cells": [
  {
   "cell_type": "markdown",
   "id": "84bedc1b",
   "metadata": {},
   "source": [
    "#### 5.1 \n",
    "\n",
    "Verify that the Maxwell-Boltzmann distribution (equation 5.40, given below) has its maximum at a speed\n",
    "\n",
    "<p style=\"text-align: center;\"> $v_p = \\left(\\dfrac{2kT}{m}\\right)^{1/2}$ . </p> \n",
    "\n",
    "Equation 5.40:\n",
    "\n",
    "$$\n",
    "\\begin{equation}\n",
    "F(v)dv = 4\\pi\\left(\\frac{m}{2\\pi kT}\\right)^{3/2} v^2 \\text{exp} \\, (-\\frac{mv^2}{2kT})dv .\n",
    "\\end{equation}\n",
    "$$"
   ]
  },
  {
   "cell_type": "markdown",
   "id": "3d39912e",
   "metadata": {},
   "source": [
    "#### 5.2 \n",
    "\n",
    "Verify that for the Maxwell-Boltzmann distribution (equation 5.40, given below), the average speed is\n",
    "\n",
    "<p style=\"text-align: center;\"> $ \\langle v_p \\rangle = \\left(\\dfrac{8kT}{\\pi m}\\right)^{1/2}$ . </p> \n",
    "\n",
    "(Hint: you may find it useful to know the definite integral $\\int_{0}^{\\infty} x^3 \\, \\text{exp}(-x^2) \\,dx = 1/2.$)\n",
    "\n",
    "Equation 5.40:\n",
    "\n",
    "$$\n",
    "\\begin{equation}\n",
    "F(v)dv = 4\\pi\\left(\\frac{m}{2\\pi kT}\\right)^{3/2} v^2 \\text{exp} \\, (-\\frac{mv^2}{2kT})dv .\n",
    "\\end{equation}\n",
    "$$"
   ]
  },
  {
   "cell_type": "markdown",
   "id": "f6df5c3f",
   "metadata": {},
   "source": [
    "#### 5.3 \n",
    "\n",
    "Verify that for the Maxwell-Boltzmann distribution (eq. 5.46), the mean kinetic energy per particle is\n",
    "\n",
    "<p style=\"text-align: center;\"> $ \\langle E \\rangle = \\dfrac{3}{2} kT . $ </p>\n",
    "\n",
    "(Hint: you may find it useful to know the definite integral $\\int_{0}^{\\infty} x^{3/2} \\, e^{-x} \\,dx = 3\\smash{\\sqrt{\\pi}} \\, / \\,4.) $\n",
    "\n",
    "Equation 5.46:\n",
    "\n",
    "<p style=\"text-align: center;\"> $$ \\langle E \\rangle  =  \\int_{0}^{\\infty}  EF(E)dE  \\,  =  \\dfrac{3}{2}kT .$$ </p>"
   ]
  },
  {
   "cell_type": "markdown",
   "id": "47d1c73a",
   "metadata": {},
   "source": [
    "#### 5.4 \n",
    "\n",
    "Molecules have additional degrees of freedom that atoms don’t possess, namely, rotation and vibration. The energies associated with molecular rotation and vibration are quantized, and photons can be emitted or absorbed by molecules making transitions from one rotational or vibrational state to another.\n",
    "\n",
    "(a) Show that the rotational energy of a system can be written as\n",
    "\n",
    "<p style=\"text-align: center;\"> $ E_\\text{rot} = \\dfrac{L}{2I} , $ </p>\n",
    "\n",
    "where *L* is the angular momentum and *I* is the moment of inertia.\n",
    "\n",
    "(b) Suppose that angular momentum is quantized according to Bohr’s hypothesis: $ L = j \\hbar $, with *j* being a positive integer. Consider the case of a diatomic molecule where the two atoms have equal mass *M* (for instance, H$_2$, O$_2$, or N$_2$). Derive an expression for the rotational energy $E_\\text{rot}$ in terms of *j*, $\\hbar$, *M*, and *r*$_0$, the separation between the two atomic nuclei in the molecule.\n",
    "\n",
    "(c) In the case of molecular hydrogen (H$_2$), which has *r*$_0$ $\\approx$ 1 $Å$, estimate the wavelength of light produced by the *j* = 2 $\\rightarrow$ 1 rotational transition. Is this longer or shorter than the wavelength of visible light?"
   ]
  },
  {
   "cell_type": "markdown",
   "id": "e84b2a29",
   "metadata": {},
   "source": [
    "#### 5.6 \n",
    "\n",
    "For the Planck function $I_\\nu$(T) (see equation 5.86 below), what is the most probable frequency $\\nu_p$ at a given temperature *T*? For the Planck function expressed as a function of wavelength, $I_\\lambda$(T) (see equation 5.90 below), what is the most probable wavelength $\\lambda_p$ at a given temperature *T*? For what range of temperatures does  $\\lambda_p$ fall in the visible range of the electromagnetic spectrum?\n",
    "\n",
    "Equation 5.86:\n",
    "$$\n",
    "\\begin{equation}\n",
    "J_\\nu(T) = \\frac{2h\\nu^3}{c^2} \\frac{1}{e^{h\\nu \\, / \\, kT}-1} .\n",
    "\\end{equation}\n",
    "$$\n",
    "\n",
    "Equation 5.90:\n",
    "$$\n",
    "\\begin{equation}\n",
    "I_\\lambda d_\\lambda = \\frac{2hc^2}{\\lambda^5} \\frac{1}{e^{hc \\, / \\, \\lambda kT}-1} d\\lambda  .\n",
    "\\end{equation}\n",
    "$$"
   ]
  },
  {
   "cell_type": "markdown",
   "id": "e47c203b",
   "metadata": {},
   "source": [
    "#### 5.7 \n",
    "\n",
    "A slab of glass 0.2 m thick absorbs 50% of the light passing through it. How thick must a slab of identical glass be in order to absorb 90% of the light passing through it? How thick must it be to absorb 99% of the light? How thick to absorb 99.9% of the light?"
   ]
  },
  {
   "cell_type": "markdown",
   "id": "2f589b64",
   "metadata": {},
   "source": [
    "#### 5.8 \n",
    "\n",
    "If an incandescent light bulb has a luminosity *L* = 60 W and a filament temperature of *T* = 2900 K, what must be the surface area of its filament? If the filament consists of a cylindrical wire with diameter *d* = 4.6 $\\times$ 10$^{−5}$ m (as in a standard incandescent 60 watt, 120 volt bulb), what is the length of the wire?"
   ]
  },
  {
   "cell_type": "markdown",
   "id": "3db8d66c",
   "metadata": {},
   "source": [
    "#### 5.9 \n",
    "\n",
    "Demonstrate that the Lorentz distribution as given in equation (5.38 - given below) is correctly normalized so that\n",
    "\n",
    "$$\n",
    "\\begin{equation}\n",
    "\\int_0^\\infty \\phi(\\nu)d\\nu = 1 .\n",
    "\\end{equation}\n",
    "$$\n",
    "\n",
    "Equation 5.38:\n",
    "$$\n",
    "\\begin{equation}\n",
    "\\phi(\\nu)d\\nu = \\frac{(\\gamma_n / 4\\pi)}{(\\nu-\\nu_0)^2 + (\\gamma_n/4\\pi)^2} \\frac{d\\nu}{\\pi} .\n",
    "\\end{equation}\n",
    "$$"
   ]
  },
  {
   "cell_type": "markdown",
   "id": "c78bb79b",
   "metadata": {},
   "source": [
    "#### 5.10 \n",
    "\n",
    "Show that for an ensemble of particles with temperature *T* and particle mass $\\mu m_p$, the line profile from thermal Doppler broadening will be\n",
    "\n",
    "$$\n",
    "\\begin{equation}\n",
    "\\phi(\\nu)d\\nu = \\frac{c}{\\nu_0} \\sqrt{\\frac{\\mu m_p}{2\\pi k T}} \\, \\text{exp} \\bigg[-\\frac{\\mu m_p c^2 (\\nu - \\nu_0)^2}{2kT\\nu_0^2}\\bigg] d\\nu^2 ,\n",
    "\\end{equation}\n",
    "$$\n",
    "\n",
    "where $\\nu_0$ is the frequency at the line center."
   ]
  }
 ],
 "metadata": {
  "kernelspec": {
   "display_name": "Python 3 (ipykernel)",
   "language": "python",
   "name": "python3"
  },
  "language_info": {
   "codemirror_mode": {
    "name": "ipython",
    "version": 3
   },
   "file_extension": ".py",
   "mimetype": "text/x-python",
   "name": "python",
   "nbconvert_exporter": "python",
   "pygments_lexer": "ipython3",
   "version": "3.9.12"
  }
 },
 "nbformat": 4,
 "nbformat_minor": 5
}
