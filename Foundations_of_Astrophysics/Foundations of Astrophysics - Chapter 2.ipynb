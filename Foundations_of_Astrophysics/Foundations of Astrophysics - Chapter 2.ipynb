{
 "cells": [
  {
   "cell_type": "markdown",
   "id": "c17e35d9",
   "metadata": {},
   "source": [
    "#### 2.1 \n",
    "\n",
    "Over the course of the year, which gets more hours of daylight, the Earth’s north pole or south pole? (Hint: the Earth is at perihelion in January.)"
   ]
  },
  {
   "cell_type": "markdown",
   "id": "ef421bff",
   "metadata": {},
   "source": [
    "#### 2.2 \n",
    "\n",
    "On 2003 August 27, Mars was in opposition as seen from the Earth. On 2005 July 14 (687 days later), Mars was in western quadrature as seen from the Earth. What was the distance of Mars from the Sun on these dates, measured in astronomical units (AU)? Is this greater than or less than the semimajor axis length of the Martian orbit? You may assume the Earth’s orbit is a perfect circle. (Hint: the sidereal period of Mars is also 687 days.)"
   ]
  },
  {
   "cell_type": "markdown",
   "id": "2993e578",
   "metadata": {},
   "source": [
    "#### 2.3\n",
    "\n",
    "In the 1670s, the astronomer Ole Rømer observed eclipses of the Galilean satellite Io as it plunged through Jupiter’s shadow once per orbit. He noticed that the time between observed eclipses became shorter as Jupiter came closer to the Earth and longer as Jupiter moved away. Rømer calculated that the eclipses were observed 17 minutes earlier when Jupiter was in opposition compared to when it was close to conjunction. This was attributed by Rømer to the finite speed of light. From Rømer’s data, compute the speed of light, first in AU min$^{-1}$, then in m s$^{-1}$."
   ]
  },
  {
   "cell_type": "markdown",
   "id": "6e07a060",
   "metadata": {},
   "source": [
    "#### 2.4 \n",
    "\n",
    "In addition to aberration of starlight due to the Earth’s orbital motion around the Sun, there should also be diurnal aberration due to the Earth’s rotation. Where on the Earth is this effect the largest, and what is its amplitude?"
   ]
  },
  {
   "cell_type": "markdown",
   "id": "4c8b7aba",
   "metadata": {},
   "source": [
    "#### 2.5 \n",
    "\n",
    "A light-year is defined as the distance traveled by light in a vacuum during one tropical year. How many light-years are in a parsec?"
   ]
  },
  {
   "cell_type": "markdown",
   "id": "78acc825",
   "metadata": {},
   "source": [
    "#### 2.6 \n",
    "\n",
    "The planets of the solar system all orbit the Sun in the same sense: counterclockwise as seen from above the Earth’s north pole. Imagine a “wrong-way” planet orbiting the Sun in the opposite (clockwise) sense, on an orbit of semimajor axis length *a* = 1.3 AU. What would the sidereal period of this planet be? What would its synodic period be as seen from the Earth? What would its synodic period be as seen from Mars?"
   ]
  },
  {
   "cell_type": "markdown",
   "id": "ef4f9be0",
   "metadata": {},
   "source": [
    "#### 2.7 \n",
    "\n",
    "Consider a football thrown directly northward at a latitude 40$^◦$ N. The distance of the quarterback from the receiver is 20 yards (18.5 m), and the speed of the thrown ball is 25 m s$^{-1}$. Does the Coriolis effect deflect the ball to the right or to the left? By what amount (in meters) is the ball deflected? Does the receiver need to worry about correcting for the deflection, or should he be more worried about being nailed by the free safety? (Hint: the angular velocity **$\\vec{\\omega}$** of the Earth’s rotation is parallel to the rotation axis.)"
   ]
  }
 ],
 "metadata": {
  "kernelspec": {
   "display_name": "Python 3 (ipykernel)",
   "language": "python",
   "name": "python3"
  },
  "language_info": {
   "codemirror_mode": {
    "name": "ipython",
    "version": 3
   },
   "file_extension": ".py",
   "mimetype": "text/x-python",
   "name": "python",
   "nbconvert_exporter": "python",
   "pygments_lexer": "ipython3",
   "version": "3.9.12"
  }
 },
 "nbformat": 4,
 "nbformat_minor": 5
}
