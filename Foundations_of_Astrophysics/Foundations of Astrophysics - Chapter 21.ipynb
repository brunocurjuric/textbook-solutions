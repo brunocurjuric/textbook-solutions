{
 "cells": [
  {
   "cell_type": "markdown",
   "id": "4235034f",
   "metadata": {},
   "source": [
    "#### 21.1 \n",
    "\n",
    "The quasar PDS 456 has a redshift $z = 0.184$ and an apparent magnitude $m_V = 14.0$.\n",
    "\n",
    "(a) What is the distance to this quasar?\n",
    "\n",
    "(b) What is its absolute magnitude, $M_V$?"
   ]
  },
  {
   "cell_type": "markdown",
   "id": "4843d72e",
   "metadata": {},
   "source": [
    "#### 21.2 \n",
    "\n",
    "At what redshift will the Ly$\\alpha$ line ($λ_0 = 1215$ Å) be centered in the Johnson–Cousins U band? (Quasars will be particularly easy to discover at this redshift.)"
   ]
  },
  {
   "cell_type": "markdown",
   "id": "858f38d6",
   "metadata": {},
   "source": [
    "#### 21.3 \n",
    "\n",
    "The Eddington limit applies to stars as well as to accreting black holes and places an upper limit on their mass. Using the mass–luminosity relation for high-mass stars (see Section 13.6), determine the maximum mass of a star that is stable against disruption by radiation pressure.\n",
    "\n",
    "Section 13.6 mass-luminosity relation:\n",
    "\n",
    "$$\n",
    "\\begin{equation}\n",
    "    L / L_⊙ = 0.35 (M / M_⊙)^{2.62} \\quad M < 0.7 M_⊙ \\\\\n",
    "    L / L_⊙ = 1.02 (M / M_⊙)^{3.92} \\quad M > 0.7 M_⊙\n",
    "\\end{equation}\n",
    "$$"
   ]
  },
  {
   "cell_type": "markdown",
   "id": "117405c4",
   "metadata": {},
   "source": [
    "#### 21.4 \n",
    "\n",
    "Stellar-mass black holes in close binary systems can have hot accretion disks. These systems, sometimes called “microquasars,” are bright X-ray sources. Explain quantitatively why microquasars are so luminous in X-rays. (Hint: equation (21.25) below gives the temperature of an accretion disk.)\n",
    "\n",
    "Equation 21.25:\n",
    "\n",
    "$$\n",
    "\\begin{equation}\n",
    "    T(r) \\sim \\left( \\frac{c^5m_p}{8\\sigma_\\text{SB}G\\sigma_e} \\right)^{1/4} \\left( \\frac{\\dot{m}}{M} \\right)^{1/4} \\left( \\frac{r}{r_\\text{Sch}} \\right)^{-3/4} \\sim 3 \\times 10^5 \\, \\text{K} \\, \\dot{m}^{1/4} \\, \\left( \\frac{M}{10^8 M_⊙} \\right)^{-1/4} \\left( \\frac{r}{r_\\text{Sch}} \\right)^{-3/4}\n",
    "\\end{equation}\n",
    "$$"
   ]
  },
  {
   "cell_type": "markdown",
   "id": "8ab6f7e8",
   "metadata": {},
   "source": [
    "#### 21.5 \n",
    "\n",
    "Starting from equation (21.27) below, demonstrate that the angular diameter of an AGN’s broad-line region is proportional to the square root of the AGN’s bolometric flux. The apparently brightest AGN is NGC 4151, with bolometric flux $F_\\text{bol} = 1.2 × 10^{−12}$ W m$^{−2}$ and redshift $z = 0.00332$. What is the angular size of the broad line region of NGC 4151, measured in arcseconds?\n",
    "\n",
    "Equation 2.27:\n",
    "\n",
    "$$\n",
    "\\begin{equation}\n",
    "    \\left( \\frac{R_\\text{blr}}{10^{15} \\text{m}} \\right) \\approx 0.26 \\left( \\frac{L_\\text{bol}}{10^{37} \\text{W}} \\right)^{1/2}\n",
    "\\end{equation}\n",
    "$$"
   ]
  },
  {
   "cell_type": "markdown",
   "id": "cad4c071",
   "metadata": {},
   "source": [
    "#### 21.6 \n",
    "\n",
    "If the widths of the broad-emission lines in AGN spectra were due to thermal broadening, how hot would the gas have to be? On what grounds can we exclude the possibility of pure thermal broadening?"
   ]
  },
  {
   "cell_type": "markdown",
   "id": "b1b9f069",
   "metadata": {},
   "source": [
    "#### 21.7 \n",
    "\n",
    "Suppose that you have a spectrum of the quasar 3C 273, as shown in Figure 21.4. You measure the width of the H*β* emission line to be 3500 km s$^{−1}$ and the optical flux to be $F_\\text{opt} = 10^{−13}$ W m$^{−2}$. From these data, estimate the following:\n",
    "\n",
    "(a) the bolometric luminosity of the quasar, assuming $L_\\text{bol} ≈ 9 L_\\text{opt}$\n",
    "\n",
    "(b) the size of the H*β*-emitting region\n",
    "\n",
    "(c) the mass of the central black hole\n",
    "\n",
    "(d) the Eddington luminosity\n",
    "\n",
    "(e) the Eddington ratio"
   ]
  },
  {
   "cell_type": "markdown",
   "id": "4481339f",
   "metadata": {},
   "source": [
    "#### 21.8 \n",
    "\n",
    "For a quasar jet, show that the maximum value of $β_t(\\theta)$ occurs when the radio source in the jet is moving at an angle $\\theta^\\text{max} =$ cos$^{−1}$*β* relative to the line of sight; then prove that equation (21.35) is correct.\n",
    "\n",
    "Equation 21.35:\n",
    "\n",
    "$$\n",
    "\\begin{equation}\n",
    "    β_t^\\text{max} = \\frac{β}{\\left(1-β^2\\right)^{1/2}}\n",
    "\\end{equation}\n",
    "$$"
   ]
  },
  {
   "cell_type": "markdown",
   "id": "7440436e",
   "metadata": {},
   "source": [
    "#### 21.9\n",
    "\n",
    "Most quasars do not show damped Lyman alpha lines in their “Lyman alpha forest.” However, by observing many quasars, we can estimate that the mean free path $λ$ between damped Lyman alpha absorbers is $∼ 70,000$ Mpc. Assuming that these systems are associated with luminous galaxies, which have a space density $n ≈ 0.01$ Mpc$^{−3}$, what does this say about the size of the atomic hydrogen disks of typical luminous galaxies?"
   ]
  }
 ],
 "metadata": {
  "kernelspec": {
   "display_name": "Python 3 (ipykernel)",
   "language": "python",
   "name": "python3"
  },
  "language_info": {
   "codemirror_mode": {
    "name": "ipython",
    "version": 3
   },
   "file_extension": ".py",
   "mimetype": "text/x-python",
   "name": "python",
   "nbconvert_exporter": "python",
   "pygments_lexer": "ipython3",
   "version": "3.9.12"
  }
 },
 "nbformat": 4,
 "nbformat_minor": 5
}
