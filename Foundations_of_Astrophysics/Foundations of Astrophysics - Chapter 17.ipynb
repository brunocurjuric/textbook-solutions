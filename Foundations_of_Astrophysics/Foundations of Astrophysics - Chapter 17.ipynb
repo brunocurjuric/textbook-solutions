{
 "cells": [
  {
   "cell_type": "markdown",
   "id": "2bd6844b",
   "metadata": {},
   "source": [
    "#### 17.1 \n",
    "\n",
    "A protostellar cloud starts as a sphere of radius $R = 4000$ AU and temperature $T = 15$ K. If it emits blackbody radiation, what is its total luminosity? What is the wavelength $λ_\\text{p}$ at which it emits the most radiation?"
   ]
  },
  {
   "cell_type": "markdown",
   "id": "067be275",
   "metadata": {},
   "source": [
    "#### 17.2 \n",
    "\n",
    "A Cepheid star in the Large Magellanic Cloud is observed to have an average apparent magnitude $\\overline{m}_V = 11.80$ and a period $P = 95$ days. Compute the distance to the Large Magellanic Cloud, ignoring any effects due to dust."
   ]
  },
  {
   "cell_type": "markdown",
   "id": "55e61c12",
   "metadata": {},
   "source": [
    "#### 17.3 \n",
    "\n",
    "Consider two clouds in the interstellar medium. A molecular (H$_2$) cloud has $T = 10$ K and $n = 10^12$ m$^{−3}$; a neutral atomic (H) cloud has $T = 120$ K and $n = 10^7$ m$^{−3}$.\n",
    "\n",
    "(a) What is the Jeans mass for each of the two clouds?\n",
    "\n",
    "(b) What is the minimum radius each cloud must have to collapse?\n",
    "\n",
    "(c) What is the timescale for the gravitational collapse of each cloud?"
   ]
  },
  {
   "cell_type": "markdown",
   "id": "347f6dc5",
   "metadata": {},
   "source": [
    "#### 17.4 \n",
    "\n",
    "In this problem, you will estimate the duration of the horizontal branch phase in a $1M_⊙$ star.\n",
    "\n",
    "(a) Compute the energy released in the net triple alpha reaction 3$^4$He → $^{12}$C. The masses of $^4$He and $^{12}$C are 4.0026 amu and 12.0000 amu, respectively, where 1 amu (atomic mass unit) $= 1.6606 × 10^{−27}$ kg.\n",
    "\n",
    "(b) Assume that at the beginning of the horizontal branch phase, $10\\%$ of the original mass of the star is in the form of $^4$He in the stellar core. Estimate the total energy released by fusing this amount of helium into carbon via the triple alpha process.\n",
    "\n",
    "(c) Assume that during the horizontal branch phase, $L = 100L_⊙$. If all this luminosity is provided by fusion of helium to carbon in the core, how long will the horizontal branch phase last?"
   ]
  },
  {
   "cell_type": "markdown",
   "id": "55e724d3",
   "metadata": {},
   "source": [
    "#### 17.5 \n",
    "\n",
    "Make an order-of-magnitude estimate of the length of the protostar phase for the Sun."
   ]
  },
  {
   "cell_type": "markdown",
   "id": "4ab36ee7",
   "metadata": {},
   "source": [
    "#### 17.6 \n",
    "\n",
    "What is the thermal energy density, in joules per cubic meter, of a typical giant molecular cloud? What is the thermal energy density of the Earth’s atmosphere at sea level?"
   ]
  }
 ],
 "metadata": {
  "kernelspec": {
   "display_name": "Python 3 (ipykernel)",
   "language": "python",
   "name": "python3"
  },
  "language_info": {
   "codemirror_mode": {
    "name": "ipython",
    "version": 3
   },
   "file_extension": ".py",
   "mimetype": "text/x-python",
   "name": "python",
   "nbconvert_exporter": "python",
   "pygments_lexer": "ipython3",
   "version": "3.9.12"
  }
 },
 "nbformat": 4,
 "nbformat_minor": 5
}
