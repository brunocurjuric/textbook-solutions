{
 "cells": [
  {
   "cell_type": "markdown",
   "id": "4a9b8db3",
   "metadata": {},
   "source": [
    "#### Exercise 13.1 \n",
    "\n",
    "The solar constant, i.e. the flux density of the solar radiation at the distance of the Earth is 1370 W m$^{−2}$.\n",
    "\n",
    "(a) Find the flux density on the surface of the Sun, when the apparent diameter of the Sun is 32$^\\prime$.\n",
    "\n",
    "(b) How many square metres of solar surface isneeded to produce 1000 megawatts?"
   ]
  },
  {
   "cell_type": "markdown",
   "id": "07ea1963",
   "metadata": {},
   "source": [
    "#### Exercise 13.2 \n",
    "\n",
    "Some theories have assumed that the effective temperature of the Sun 4.5 billion years ago was 5000 K and radius 1.02 times the current radius. What was the solar constant then? Assume that the orbit of the Earth has not changed."
   ]
  }
 ],
 "metadata": {
  "kernelspec": {
   "display_name": "Python 3 (ipykernel)",
   "language": "python",
   "name": "python3"
  },
  "language_info": {
   "codemirror_mode": {
    "name": "ipython",
    "version": 3
   },
   "file_extension": ".py",
   "mimetype": "text/x-python",
   "name": "python",
   "nbconvert_exporter": "python",
   "pygments_lexer": "ipython3",
   "version": "3.9.12"
  }
 },
 "nbformat": 4,
 "nbformat_minor": 5
}
