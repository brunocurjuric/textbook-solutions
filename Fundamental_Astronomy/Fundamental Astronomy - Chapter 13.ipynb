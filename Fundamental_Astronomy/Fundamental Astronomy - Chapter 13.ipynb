{
 "cells": [
  {
   "cell_type": "markdown",
   "id": "4a9b8db3",
   "metadata": {},
   "source": [
    "#### Exercise 13.1 \n",
    "\n",
    "The solar constant, i.e. the flux density of the solar radiation at the distance of the Earth is 1370 W m$^{−2}$.\n",
    "\n",
    "(a) Find the flux density on the surface of the Sun, when the apparent diameter of the Sun is 32$^\\prime$.\n",
    "\n",
    "(b) How many square metres of solar surface is needed to produce 1000 megawatts?"
   ]
  },
  {
   "cell_type": "code",
   "execution_count": 97,
   "id": "8e29be9c",
   "metadata": {},
   "outputs": [
    {
     "name": "stdout",
     "output_type": "stream",
     "text": [
      "Sun's surface flux density is 62783671 W/m².\n",
      "15.93 meters of solar surface is needed to produce 1000 megawatts.\n"
     ]
    }
   ],
   "source": [
    "from astropy import units as u\n",
    "from astropy.constants import au, L_sun, sigma_sb\n",
    "from math import pi\n",
    "\n",
    "# (a)\n",
    "earth_flux = 1360*u.W/(u.m)**2\n",
    "sun_diameter = 32*u.arcmin\n",
    "sun_radius = sun_diameter.to(u.rad).value*au/2\n",
    "sun_flux = (earth_flux*au**2/sun_radius**2).to('W/m**2')\n",
    "print(f\"Sun's surface flux density is {sun_flux.to('W/m**2').value:.0f} W/m\\u00b2.\")\n",
    "\n",
    "# (b)\n",
    "power_produced = 1000*10**6*u.W\n",
    "meters_needed = (power_produced/sun_flux).to('m**2')\n",
    "print(f\"{meters_needed.value:.2f} meters of solar surface is needed to produce 1000 megawatts.\")"
   ]
  },
  {
   "cell_type": "markdown",
   "id": "07ea1963",
   "metadata": {},
   "source": [
    "#### Exercise 13.2 \n",
    "\n",
    "Some theories have assumed that the effective temperature of the Sun 4.5 billion years ago was 5000 K and radius 1.02 times the current radius. What was the solar constant then? Assume that the orbit of the Earth has not changed."
   ]
  },
  {
   "cell_type": "code",
   "execution_count": 98,
   "id": "917fc7df",
   "metadata": {},
   "outputs": [
    {
     "name": "stdout",
     "output_type": "stream",
     "text": [
      "Solar constant then was 797 W/m².\n"
     ]
    }
   ],
   "source": [
    "from astropy import units as u\n",
    "from astropy.constants import R_sun, au, sigma_sb\n",
    "\n",
    "teff_sun_before = 5000*u.K\n",
    "sun_radius_before = 1.02*R_sun\n",
    "sun_luminosity_before = sigma_sb * 4 * pi * sun_radius_before**2 * teff_sun_before**4\n",
    "solar_constant_before = sun_luminosity_before/(4*pi*au**2)\n",
    "solar_constant_before\n",
    "\n",
    "print(f\"Solar constant then was {solar_constant_before.value:.0f} W/m\\u00b2.\")"
   ]
  }
 ],
 "metadata": {
  "kernelspec": {
   "display_name": "Python 3",
   "language": "python",
   "name": "python3"
  },
  "language_info": {
   "codemirror_mode": {
    "name": "ipython",
    "version": 3
   },
   "file_extension": ".py",
   "mimetype": "text/x-python",
   "name": "python",
   "nbconvert_exporter": "python",
   "pygments_lexer": "ipython3",
   "version": "3.12.1"
  }
 },
 "nbformat": 4,
 "nbformat_minor": 5
}
