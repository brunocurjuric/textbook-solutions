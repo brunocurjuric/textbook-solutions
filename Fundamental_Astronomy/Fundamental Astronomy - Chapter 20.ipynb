{
 "cells": [
  {
   "cell_type": "markdown",
   "id": "ae1cb829",
   "metadata": {},
   "source": [
    "#### Exercise 20.1 \n",
    "\n",
    "The apparent diameter of the galaxy NGC 3159 is 1.3$^\\prime$, apparent magnitude 14.4, and radial velocity with respect to the Milky Way 6940 km s$^{−1}$. Find the distance, diameter and absolute magnitude of the galaxy. What potential sources of error can you think of?"
   ]
  },
  {
   "cell_type": "markdown",
   "id": "045418db",
   "metadata": {},
   "source": [
    "#### Exercise 20.2\n",
    "\n",
    "The radial velocity of NGC 772 is 2562 km s$^{−1}$. Compute the distance obtained from this information and compare the result with Exercise 18.1."
   ]
  },
  {
   "cell_type": "markdown",
   "id": "3bc8bd14",
   "metadata": {},
   "source": [
    "#### Exercise 20.3 \n",
    "\n",
    "If the neutrinos have nonzero mass, the universe can be closed. What is the minimum mass needed for this? Assume that $\\Lambda$ = 0, the density of neutrinos is 600 cm$^{−3}$, and the density of other matter is one tenth of the critical density."
   ]
  }
 ],
 "metadata": {
  "kernelspec": {
   "display_name": "Python 3 (ipykernel)",
   "language": "python",
   "name": "python3"
  },
  "language_info": {
   "codemirror_mode": {
    "name": "ipython",
    "version": 3
   },
   "file_extension": ".py",
   "mimetype": "text/x-python",
   "name": "python",
   "nbconvert_exporter": "python",
   "pygments_lexer": "ipython3",
   "version": "3.9.12"
  }
 },
 "nbformat": 4,
 "nbformat_minor": 5
}
