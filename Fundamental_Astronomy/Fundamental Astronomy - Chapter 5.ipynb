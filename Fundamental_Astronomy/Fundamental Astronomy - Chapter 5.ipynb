{
 "cells": [
  {
   "cell_type": "markdown",
   "id": "10d35f5a",
   "metadata": {},
   "source": [
    "#### Exercise 5.1 \n",
    "Show that in the Wien approximation the relative error of *B$_\\lambda$* is \n",
    "\n",
    "<p style=\"text-align: center;\"> $\\frac{\\Delta B_{\\lambda}}{B_{\\lambda}}$ = $-$e$^{-hc \\, / \\, (\\lambda kT)}$ . </p>"
   ]
  },
  {
   "cell_type": "markdown",
   "id": "2f330583",
   "metadata": {},
   "source": [
    "#### Exercise 5.2 \n",
    "\n",
    "If the transition of the hydrogen atom n + 1 $\\rightarrow$ n were to correspond to the wavelength 21.05 cm, what would the quantum number *n* be? The interstellar medium emits strong radiation at this wavelength. Can this radiation be due to such transitions?"
   ]
  },
  {
   "cell_type": "markdown",
   "id": "f0c7fd90",
   "metadata": {},
   "source": [
    "#### Exercise 5.3 \n",
    "\n",
    "The space is filled with background radiation, remnant of the early age of the universe. Currently the distribution of this radiation is similar to the radiation of a blackbody at the temperature of 2.7 K. What is $\\lambda_{max}$ corresponding to this radiation? What is its total intensity? Compare the intensity of the background radiation to the intensity of the Sun at the visual wavelengths."
   ]
  },
  {
   "cell_type": "markdown",
   "id": "1b65707e",
   "metadata": {},
   "source": [
    "#### Exercise 5.4\n",
    "\n",
    "The temperature of a red giant is *T* = 2500 K and radius 100 times the solar radius.\n",
    "\n",
    "(a) Find the total luminosity of the star, and the luminosity in the visual band 400 nm $\\le$ $\\lambda$ $\\le$ 700 nm.\n",
    "\n",
    "(b) Compare the star with a 100 W lamp that radiates 5 % of its energy in the visual band. What is the distance of the lamp if it looks as bright as the star?"
   ]
  },
  {
   "cell_type": "markdown",
   "id": "6d6cf13f",
   "metadata": {},
   "source": [
    "#### Exercise 5.5 \n",
    "The effective temperature of Sirius is 10,000 K, apparent visual magnitude $-$1.5, distance 2.67 kpc and bolometric correction 0.5. What is the radius of Sirius?"
   ]
  },
  {
   "cell_type": "markdown",
   "id": "0a829d32",
   "metadata": {},
   "source": [
    "#### Exercise 5.6 \n",
    "\n",
    "The observed flux density of the Sun at $\\lambda$ = 300 nm is 0.59 W m$^{−2}$ nm$^{−1}$. Find the brightness temperature of the Sun at this wavelength."
   ]
  },
  {
   "cell_type": "markdown",
   "id": "e9d98c29",
   "metadata": {},
   "source": [
    "#### Exercise 5.7 \n",
    "\n",
    "The colour temperature can be determined from two magnitudes corresponding to two different wavelengths. Show that\n",
    "\n",
    "<p style=\"text-align: center;\"> $T_\\text{c} =  \\frac{7000 \\: \\text{K}}{(B-V) \\, + \\, 0.47}$. </p>\n",
    "\n",
    "The wavelengths of the *B* and *V* bands are\n",
    "440 nm and 548 nm, respectively, and we assume\n",
    "that *B* = *V* for stars of the spectral class A0, the\n",
    "colour temperature of which is about 15,000 K."
   ]
  },
  {
   "cell_type": "markdown",
   "id": "a4867570",
   "metadata": {},
   "source": [
    "#### Exercise 5.8 \n",
    "\n",
    "The kinetic temperature of the plasma in the solar corona can reach 10$^6$ K. Find the average speed of the electrons in such a plasma."
   ]
  }
 ],
 "metadata": {
  "kernelspec": {
   "display_name": "Python 3 (ipykernel)",
   "language": "python",
   "name": "python3"
  },
  "language_info": {
   "codemirror_mode": {
    "name": "ipython",
    "version": 3
   },
   "file_extension": ".py",
   "mimetype": "text/x-python",
   "name": "python",
   "nbconvert_exporter": "python",
   "pygments_lexer": "ipython3",
   "version": "3.9.12"
  }
 },
 "nbformat": 4,
 "nbformat_minor": 5
}
