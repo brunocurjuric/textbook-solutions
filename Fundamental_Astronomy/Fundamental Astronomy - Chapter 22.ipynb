{
 "cells": [
  {
   "cell_type": "markdown",
   "id": "91ec8af9",
   "metadata": {},
   "source": [
    "#### Exercise 22.1 \n",
    "\n",
    "How much the apparent place of the Sun oscillates due to Jupiter’s orbital motion as seen from the distance of 10 parsecs."
   ]
  },
  {
   "cell_type": "markdown",
   "id": "986df05a",
   "metadata": {},
   "source": [
    "#### Exercise 22.2 \n",
    "\n",
    "A distant observer detects the brightness of the Sun changing when Jupiter transits the Sun. How big is this change in magnitudes? And what is the change when the Earth transits the Sun?"
   ]
  }
 ],
 "metadata": {
  "kernelspec": {
   "display_name": "Python 3 (ipykernel)",
   "language": "python",
   "name": "python3"
  },
  "language_info": {
   "codemirror_mode": {
    "name": "ipython",
    "version": 3
   },
   "file_extension": ".py",
   "mimetype": "text/x-python",
   "name": "python",
   "nbconvert_exporter": "python",
   "pygments_lexer": "ipython3",
   "version": "3.9.12"
  }
 },
 "nbformat": 4,
 "nbformat_minor": 5
}
