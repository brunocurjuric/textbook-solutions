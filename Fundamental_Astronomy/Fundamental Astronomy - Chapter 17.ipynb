{
 "cells": [
  {
   "cell_type": "markdown",
   "id": "9291b043",
   "metadata": {},
   "source": [
    "#### Exercise 17.1\n",
    "\n",
    "A globular cluster consists of 100,000 stars of the solar absolute magnitude. Calculate the total apparent magnitude of the cluster, if its distance is 10 kpc."
   ]
  },
  {
   "cell_type": "markdown",
   "id": "0182e6d8",
   "metadata": {},
   "source": [
    "#### Exercise 17.2 \n",
    "If the apparent magnitude of the cluster of the previous exercise is 10, what is its distance if the interstellar absorption in the direction of the cluster is 1.5 mag/kpc?"
   ]
  },
  {
   "cell_type": "markdown",
   "id": "27bc68eb",
   "metadata": {},
   "source": [
    "#### Exercise 17.3 \n",
    "\n",
    "The Pleiades open cluster contains 230 stars within 4 pc. Estimate the velocities of the stars in the cluster using the virial theorem. For simplicity, let the mass of each star be replaced by 1 *M*$_\\odot$."
   ]
  }
 ],
 "metadata": {
  "kernelspec": {
   "display_name": "Python 3 (ipykernel)",
   "language": "python",
   "name": "python3"
  },
  "language_info": {
   "codemirror_mode": {
    "name": "ipython",
    "version": 3
   },
   "file_extension": ".py",
   "mimetype": "text/x-python",
   "name": "python",
   "nbconvert_exporter": "python",
   "pygments_lexer": "ipython3",
   "version": "3.9.12"
  }
 },
 "nbformat": 4,
 "nbformat_minor": 5
}
