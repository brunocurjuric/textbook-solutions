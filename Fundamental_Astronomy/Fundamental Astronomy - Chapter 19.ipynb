{
 "cells": [
  {
   "cell_type": "markdown",
   "id": "ebfb1a8e",
   "metadata": {},
   "source": [
    "#### Exercise 19.1 \n",
    "\n",
    "The galaxy NGC 772 is an Sb spiral, similar to M31. Its angular diameter is 7$^\\prime$ and apparent magnitude 12.0. The corresponding values of M31 are 3.0$^◦$ and 5.0. Find the ratio of the distances of the galaxies\n",
    "\n",
    "(a) assuming their sizes are equal,\n",
    "\n",
    "(b) assuming they are equally bright."
   ]
  },
  {
   "cell_type": "markdown",
   "id": "be7728d6",
   "metadata": {},
   "source": [
    "#### Exercise 19.2 \n",
    "\n",
    "The brightness of the quasar 3C279 has shown changes with the time scale of one week. Estimate the size of the region producing the radiation. The apparent magnitude is 18. If the distance of the quasar is 2000 Mpc, what is its absolute magnitude and luminosity? How much energy is produced per au$^3$?"
   ]
  }
 ],
 "metadata": {
  "kernelspec": {
   "display_name": "Python 3 (ipykernel)",
   "language": "python",
   "name": "python3"
  },
  "language_info": {
   "codemirror_mode": {
    "name": "ipython",
    "version": 3
   },
   "file_extension": ".py",
   "mimetype": "text/x-python",
   "name": "python",
   "nbconvert_exporter": "python",
   "pygments_lexer": "ipython3",
   "version": "3.9.12"
  }
 },
 "nbformat": 4,
 "nbformat_minor": 5
}
