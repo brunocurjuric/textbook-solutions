{
 "cells": [
  {
   "cell_type": "markdown",
   "id": "34c3e09f",
   "metadata": {},
   "source": [
    "#### Exercise 11.1 \n",
    "\n",
    "How many hydrogen atoms are there in the Sun per each helium atom?"
   ]
  },
  {
   "cell_type": "markdown",
   "id": "b01bbb87",
   "metadata": {},
   "source": [
    "#### Exercise 11.2\n",
    "\n",
    "(a) How many pp reactions take place in the Sun every second? The luminosity of the Sun is 3.9 $\\times$ 10$^{26}$ W, the mass of a proton is 1.00728 amu, and that of the $\\alpha$ particle 4.001514 amu (1 amu is 1.6604 × 10$^{−27}$ kg).\n",
    "\n",
    "(b) How many neutrinos produced in these pp reactions will hit the Earth in one second?"
   ]
  },
  {
   "cell_type": "markdown",
   "id": "5954f4d3",
   "metadata": {},
   "source": [
    "#### Exercise 11.3 \n",
    "\n",
    "The mass absorption coefficient of a neutrino is $\\kappa$ = 10−21 m$^2$ kg$^{−1}$. Find the mean free path at the centre of the Sun."
   ]
  }
 ],
 "metadata": {
  "kernelspec": {
   "display_name": "Python 3 (ipykernel)",
   "language": "python",
   "name": "python3"
  },
  "language_info": {
   "codemirror_mode": {
    "name": "ipython",
    "version": 3
   },
   "file_extension": ".py",
   "mimetype": "text/x-python",
   "name": "python",
   "nbconvert_exporter": "python",
   "pygments_lexer": "ipython3",
   "version": "3.9.12"
  }
 },
 "nbformat": 4,
 "nbformat_minor": 5
}
