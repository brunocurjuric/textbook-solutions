{
 "cells": [
  {
   "cell_type": "markdown",
   "id": "a686931e",
   "metadata": {},
   "source": [
    "#### Exercise 7.1\n",
    "\n",
    "What is the greatest possible elongation of Mercury, Venus and Mars? How long before sunrise or after sunset is the planet visible? Assume that the declination of the planet and the Sun is $\\delta$ = 0$^\\circ$."
   ]
  },
  {
   "cell_type": "markdown",
   "id": "c1cd7f6d",
   "metadata": {},
   "source": [
    "#### Exercise 7.2 \n",
    "\n",
    "(a) What is the greatest possible geocentric latitude of Venus, i.e. how far from the Sun can the planet be at the inferior conjunction? Assume the orbits are circular.\n",
    "\n",
    "(b) When is the situation possible? The longitude of the ascending node of Venus is 77$^\\circ$."
   ]
  },
  {
   "cell_type": "markdown",
   "id": "29415275",
   "metadata": {},
   "source": [
    "#### Exercise 7.3 \n",
    "\n",
    "(a) Find the daily retrograde apparent motion of an exterior planet at its opposition.\n",
    "Assume that the planet and the Earth have circular orbits.\n",
    "\n",
    "(b) Pluto was found in 1930 from two plates, exposed 6 days apart during the opposition of the planet. On those plates one degree corresponded to 3 cm. How much (in cm) had Pluto moved between the exposures? How much does a typical main belt asteroid move in the same time?"
   ]
  },
  {
   "cell_type": "markdown",
   "id": "bb3c14d4",
   "metadata": {},
   "source": [
    "#### Exercise 7.4 \n",
    "\n",
    "A planet is observed at the opposition or inferior conjunction. Due to the finite speed of light the apparent direction of the planet differs from the true place. Find this difference as a function of the radius of the orbit. You can assume the orbits are circular. Which planet has the largest deviation?"
   ]
  },
  {
   "cell_type": "markdown",
   "id": "8ed8eba7",
   "metadata": {},
   "source": [
    "#### Exercise 7.5 \n",
    "\n",
    "The angular diameter of the Moon is 0.5$^\\circ$. The full moon has an apparent magnitude of −12.5 and the Sun −26.7. Find the geometric and Bond albedos of the Moon, assuming that the reflected light is isotropic (into a solid angle 2$\\pi$ sterad)."
   ]
  },
  {
   "cell_type": "markdown",
   "id": "6fca043a",
   "metadata": {},
   "source": [
    "#### Exercise 7.6 \n",
    "\n",
    "The eccentricity of the orbit of Mercury is 0.206. How much does the apparent magnitude of the Sun vary as seen from Mercury? How does the surface brightness of the Sun vary?"
   ]
  },
  {
   "cell_type": "markdown",
   "id": "9b833c4f",
   "metadata": {},
   "source": [
    "#### Exercise 7.7 \n",
    "\n",
    "An asteroid with a diameter of 100 m approaches the Earth at a velocity of 30 km s$$^{-1}. Find the apparent magnitude of the asteroid (a) one week, (b) one day before the collision. Assume that the phase angle is $\\alpha$ = 0$^\\circ$ and the geometric albedo of the asteroid is p = 0.1. What do you think about the chances of finding the asteroid well in advance the crash?"
   ]
  },
  {
   "cell_type": "markdown",
   "id": "5bbaa19e",
   "metadata": {},
   "source": [
    "#### Exercise 7.8 \n",
    "\n",
    "Find the centripetal acceleration at the poles and on the equator of the Earth."
   ]
  }
 ],
 "metadata": {
  "kernelspec": {
   "display_name": "Python 3 (ipykernel)",
   "language": "python",
   "name": "python3"
  },
  "language_info": {
   "codemirror_mode": {
    "name": "ipython",
    "version": 3
   },
   "file_extension": ".py",
   "mimetype": "text/x-python",
   "name": "python",
   "nbconvert_exporter": "python",
   "pygments_lexer": "ipython3",
   "version": "3.9.12"
  }
 },
 "nbformat": 4,
 "nbformat_minor": 5
}
