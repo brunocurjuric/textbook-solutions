{
 "cells": [
  {
   "cell_type": "markdown",
   "id": "ba2291a8",
   "metadata": {},
   "source": [
    "#### Exercise 21.1 \n",
    "\n",
    "Calculate the limits of the habitable zone of the Sun assuming the planet is a fastrotating blackbody with a Bond albedo of 0.3.\n",
    "What is the continuously habitable zone, if the luminosity of the Sun was originally 0.7 times the current value?"
   ]
  },
  {
   "cell_type": "markdown",
   "id": "389d998d",
   "metadata": {},
   "source": [
    "#### Exercise 21.2 \n",
    "\n",
    "Assume there are *n* stars in a cubic parsec and a fraction *p* of them have communicating civilisations. What is the average distance between two neighbouring civilisations? Apply the result to the solar vicinity. The stellar density can be estimated from Table C.17 (given below). What is the average distance between nearest civilisations, if the probability of a star having a planet with a civilisation is (a) 0.01, (b) 0.00001?\n",
    "\n",
    "Table C.17             |  Table C.17 - continued\n",
    ":-------------------------:|:-------------------------:\n",
    "![](table_C17_1.PNG)  |  ![](table_C17_2.PNG)"
   ]
  },
  {
   "cell_type": "markdown",
   "id": "077f7176",
   "metadata": {},
   "source": [
    "#### Exercise 21.3 \n",
    "\n",
    "An asteroid with a diameter of one hundred metres is approaching the Earth. Estimate the minimum value of the kinetic energy released in the collision. Compare the result with the Hiroshima atomic bomb. The energy of the bomb was equivalent to 15 kilotons of TNT. One ton of TNT corresponds to the energy of 4.184 $\\times$ 10$^9$ joules."
   ]
  }
 ],
 "metadata": {
  "kernelspec": {
   "display_name": "Python 3 (ipykernel)",
   "language": "python",
   "name": "python3"
  },
  "language_info": {
   "codemirror_mode": {
    "name": "ipython",
    "version": 3
   },
   "file_extension": ".py",
   "mimetype": "text/x-python",
   "name": "python",
   "nbconvert_exporter": "python",
   "pygments_lexer": "ipython3",
   "version": "3.9.12"
  }
 },
 "nbformat": 4,
 "nbformat_minor": 5
}
