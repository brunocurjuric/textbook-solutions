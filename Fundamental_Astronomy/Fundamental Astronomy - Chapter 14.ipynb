{
 "cells": [
  {
   "cell_type": "markdown",
   "id": "b6bb7f68",
   "metadata": {},
   "source": [
    "#### Exercise 14.1 \n",
    "\n",
    "The absolute visual magnitude of RR Lyrae variables is 0.6 $\\pm$ 0.3. What is the relative error of distances due to the deviation in the magnitude?"
   ]
  },
  {
   "cell_type": "markdown",
   "id": "c37b59fa",
   "metadata": {},
   "source": [
    "#### Exercise 14.2\n",
    "\n",
    "The bolometric magnitude of a long period variable varies by one magnitude. The effective temperature at the maximum is 4500 K.\n",
    "\n",
    "(a) What is the temperature at the minimum, if the variation is due to temperature change only?\n",
    "\n",
    "(b) If the temperature remains constant, what is the relative variation in the radius?"
   ]
  },
  {
   "cell_type": "markdown",
   "id": "f3cc9c22",
   "metadata": {},
   "source": [
    "#### Exercise 14.3 \n",
    "\n",
    "In 1983 the radius of the Crab nebula was about 3$^\\prime$. It is expanding 0.21$^\\prime$$^\\prime$ a year. Radial velocities of 1300 km s$^{−1}$ with respect to the central star have been observed in the nebula.\n",
    "\n",
    "(a) What is the distance of the nebula, assuming its expansion is symmetric?\n",
    "\n",
    "(b) A supernova explosion has been observed in the direction of the nebula. Estimate, how long time ago?\n",
    "\n",
    "(c) What was the apparent magnitude of the supernova, if the absolute magnitude was a typical $−$18?"
   ]
  }
 ],
 "metadata": {
  "kernelspec": {
   "display_name": "Python 3 (ipykernel)",
   "language": "python",
   "name": "python3"
  },
  "language_info": {
   "codemirror_mode": {
    "name": "ipython",
    "version": 3
   },
   "file_extension": ".py",
   "mimetype": "text/x-python",
   "name": "python",
   "nbconvert_exporter": "python",
   "pygments_lexer": "ipython3",
   "version": "3.9.12"
  }
 },
 "nbformat": 4,
 "nbformat_minor": 5
}
