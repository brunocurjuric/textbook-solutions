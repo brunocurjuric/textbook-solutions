{
 "cells": [
  {
   "cell_type": "markdown",
   "id": "745eaa83",
   "metadata": {},
   "source": [
    "#### Exercise 16.1\n",
    "\n",
    "Two open clusters, which are seen near each other in the galactic plane, have angular diameters $\\alpha$ and 3$\\alpha$, and distance moduli 16.0 and 11.0, respectively. Assuming their actual diameters are equal, find their distances and the interstellar extinction coefficient *a* in equation 16.4 (given below).\n",
    "\n",
    "<p style=\"text-align: center;\"> $A = ar$ (16.4) </p>"
   ]
  },
  {
   "cell_type": "markdown",
   "id": "74f58611",
   "metadata": {},
   "source": [
    "#### Exercise 16.2 \n",
    "\n",
    "Estimate the free fall velocity on the surface of a spherical gas cloud contracting under the influence of its own gravity. Assume *n*(H$_2$) = 103 cm$^{−3}$ and *R* = 5 pc."
   ]
  },
  {
   "cell_type": "markdown",
   "id": "14324e70",
   "metadata": {},
   "source": [
    "#### Exercise 16.3 \n",
    "\n",
    "The force ***F*** exerted by a magnetic field ***B*** on a charge *q* moving with velocity **$v$** is ***F*** = *q* **$v$** $\\times$ ***B***. If **$v$** is perpendicular to ***B***, the path of the charge is circular. Find the radius of the path of an interstellar proton with a kinetic energy of 1 MeV. Use *B* = 0.1 nT for the galactic magnetic field."
   ]
  }
 ],
 "metadata": {
  "kernelspec": {
   "display_name": "Python 3 (ipykernel)",
   "language": "python",
   "name": "python3"
  },
  "language_info": {
   "codemirror_mode": {
    "name": "ipython",
    "version": 3
   },
   "file_extension": ".py",
   "mimetype": "text/x-python",
   "name": "python",
   "nbconvert_exporter": "python",
   "pygments_lexer": "ipython3",
   "version": "3.9.12"
  }
 },
 "nbformat": 4,
 "nbformat_minor": 5
}
