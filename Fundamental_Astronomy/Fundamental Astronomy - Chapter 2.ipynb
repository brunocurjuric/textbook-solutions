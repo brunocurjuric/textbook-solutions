{
 "cells": [
  {
   "cell_type": "markdown",
   "id": "ab49b1a0",
   "metadata": {},
   "source": [
    "#### Exercise 2.1\n",
    "Find the distance between Helsinki and Seattle along the shortest route. Where is the northernmost point of the route, and what is its distance from the North Pole? The longitude of Helsinki is 25$^\\circ$E and latitude 60$^\\circ$; the longitude of Seattle is 122$^\\circ$W and latitude 48$^\\circ$. Assume that the radius of the Earth is 6370 km."
   ]
  },
  {
   "cell_type": "markdown",
   "id": "76487f4f",
   "metadata": {},
   "source": [
    "#### Exercise 2.2 \n",
    "A star crosses the south meridian at an altitude of 85$^\\circ$, and the north meridian at 45$^\\circ$. Find the declination of the star and the latitude of the observer."
   ]
  },
  {
   "cell_type": "markdown",
   "id": "b7c8f5ff",
   "metadata": {},
   "source": [
    "#### Exercise 2.3\n",
    "\n",
    "Where are the following statements true? \n",
    "\n",
    "(a) Castor ($\\alpha$ Gem, declination $\\delta$ = 31$^\\circ$ 53′) is\n",
    "circumpolar.\n",
    "\n",
    "(b) Betelgeuze ($\\alpha$ Ori, $\\delta$ = 7$^\\circ$ 24′) culminates at\n",
    "zenith. \n",
    "\n",
    "(c) $\\alpha$ Cen ($\\delta$ = −60$^\\circ$ 50′) rises to an altitude of\n",
    "30$^\\circ$."
   ]
  },
  {
   "cell_type": "markdown",
   "id": "c7fa08a6",
   "metadata": {},
   "source": [
    "#### Exercise 2.4 \n",
    "In his Old Man and the Sea Hemingway wrote: \n",
    "\n",
    "*It was dark now as it becomes dark quickly after\n",
    "the Sun sets in September. He lay against the worn\n",
    "wood of the bow and rested all that he could. The\n",
    "first stars were out. He did not know the name of\n",
    "Rigel but he saw it and knew soon they would all\n",
    "be out and he would have all his distant friends.*\n",
    "\n",
    "How was Hemingway’s astronomy?"
   ]
  },
  {
   "cell_type": "markdown",
   "id": "878d145e",
   "metadata": {},
   "source": [
    "#### Exercise 2.5 \n",
    "The right ascension of the Sun on June 1, 1983, was 4 h 35 min and declination 22$^\\circ$ 00′. Find the ecliptic longitude and latitude of the Sun and the Earth."
   ]
  },
  {
   "cell_type": "markdown",
   "id": "80c66444",
   "metadata": {},
   "source": [
    "#### Exercise 2.6 \n",
    "Show that on the Arctic Circle the Sun\n",
    "\n",
    "(a) rises at the same sidereal time $\\Theta_0$ between December 22 and June 22,\n",
    "\n",
    "(b) sets at the same sidereal time $\\Theta_0$ between June 22 and December 22.\n",
    "\n",
    "What is *$\\Theta_0$*?"
   ]
  },
  {
   "cell_type": "markdown",
   "id": "72d87eed",
   "metadata": {},
   "source": [
    "#### Exercise 2.7 \n",
    "\n",
    "Derive the equations (2.24), which give the galactic coordinates as functions of the ecliptic coordinates.\n",
    "\n",
    "Equations 2.24 are given below:\n",
    "\n",
    "sin(l$_N$ − l) cos *b* = cos $\\delta$ sin($\\alpha$ − $\\alpha_P$),\n",
    "\n",
    "cos(l$_N$ − l) cos *b* = −cos $\\delta$ sin $\\delta_P$ cos($\\alpha$ − $\\alpha_P$) + sin $\\delta$ cos $\\delta_P$,\n",
    "\n",
    "sin *b* = cos $\\delta$ cos $\\delta_P$ cos($\\alpha$ − $\\alpha$P) + sin $\\delta$ sin $\\delta_P$."
   ]
  },
  {
   "cell_type": "markdown",
   "id": "86b866f6",
   "metadata": {},
   "source": [
    "#### Exercise 2.8 \n",
    "\n",
    "The coordinates of Sirius for the epoch 1900.0 were $\\alpha$ = 6 h 40 min 45 s, $\\delta$ = −16$^\\circ$ 35′, and the components of its proper motion were $\\mu_\\alpha$ = −0.037 s/a, $\\mu_\\delta$ = −1.12′′a$^{-1}$. Find the coordinates of Sirius for 2000.0. The precession must also be taken into account."
   ]
  },
  {
   "cell_type": "markdown",
   "id": "ed7b7f29",
   "metadata": {},
   "source": [
    "#### Exercise 2.9 \n",
    "\n",
    "The parallax of Sirius is 0.375′′ and radial velocity −8 km/s.\n",
    "\n",
    "(a) What are the tangential and total velocities of\n",
    "Sirius? (See also the previous exercise.)\n",
    "\n",
    "(b) When will Sirius be closest to the Sun?\n",
    "\n",
    "(c) What will its proper motion and parallax be\n",
    "then?"
   ]
  },
  {
   "cell_type": "markdown",
   "id": "72378054",
   "metadata": {},
   "source": [
    "#### Exercise 2.10  \n",
    "\n",
    "The average period of the variable star Mira Ceti is 331.96 days. According to a catalogue the brightness was at maximum in September 22, 2000. When the star was brightest in 2010?"
   ]
  }
 ],
 "metadata": {
  "kernelspec": {
   "display_name": "Python 3 (ipykernel)",
   "language": "python",
   "name": "python3"
  },
  "language_info": {
   "codemirror_mode": {
    "name": "ipython",
    "version": 3
   },
   "file_extension": ".py",
   "mimetype": "text/x-python",
   "name": "python",
   "nbconvert_exporter": "python",
   "pygments_lexer": "ipython3",
   "version": "3.9.12"
  }
 },
 "nbformat": 4,
 "nbformat_minor": 5
}
