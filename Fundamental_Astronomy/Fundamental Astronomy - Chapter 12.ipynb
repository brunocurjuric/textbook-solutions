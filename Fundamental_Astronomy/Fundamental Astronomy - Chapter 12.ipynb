{
 "cells": [
  {
   "cell_type": "markdown",
   "id": "701e5b37",
   "metadata": {},
   "source": [
    "#### Exercise 12.1 \n",
    "\n",
    "Find the free fall time scale for a hydrogen cloud, if the density of H$_2$ molecules is 3000 cm$^{−3}$. Assume that stars condense from such clouds, there are 100 clouds in the Galaxy, the mass of each cloud is 5 $\\times$ 10$^4$ *M*$_\\odot$, and 10 *%* of the mass is converted into stars. Also assume that the average mass of a star is 1 *M*$_\\odot$. How many stars are born in one year?"
   ]
  },
  {
   "cell_type": "markdown",
   "id": "520e834c",
   "metadata": {},
   "source": [
    "#### Exercise 12.2 \n",
    "\n",
    "The mass of Vega (spectral class A0 V) is 2 *M*$_\\odot$, radius 3 *R*$_\\odot$, and luminosity 60 *L*$_\\odot$. Find its thermal and nuclear time scales."
   ]
  },
  {
   "cell_type": "code",
   "execution_count": null,
   "id": "c398b74a",
   "metadata": {},
   "outputs": [
    {
     "name": "stdout",
     "output_type": "stream",
     "text": [
      "Thermal timescale for Vega is 348881 years, or 444444 years based on Sun's approximation.\n",
      "Nuclear timescale for Vega is 345182051 years, or 333333333 years based on Sun's approximation.\n"
     ]
    }
   ],
   "source": [
    "from astropy.constants import L_sun, R_sun, M_sun, c, G\n",
    "from astropy import units as u\n",
    "\n",
    "M_vega = 2*M_sun\n",
    "R_vega = 3*R_sun\n",
    "L_vega = 60*L_sun\n",
    "\n",
    "# thermal timescales\n",
    "t_t = 0.5 * G * M_vega**2 / R_vega / L_vega # equation 12.3, first equality\n",
    "t_t_approx = (M_vega/M_sun)**2/(R_vega/R_sun)/(L_vega/L_sun)*2*10**7 # equation 12.3, second equality, already in years\n",
    "print(f'Thermal timescale for Vega is {t_t.to('year').value:.0f} years, or {t_t_approx:.0f} years based on Sun\\'s approximation.')\n",
    "\n",
    "# nuclear timescales\n",
    "t_n = 0.007 * 0.1 * M_vega * c**2 / L_vega # equation 12.1\n",
    "t_n_approx = (M_vega/M_sun)/60*10**10 # equation 12.2, already in years\n",
    "print(f'Nuclear timescale for Vega is {t_n.to('year').value:.0f} years, or {t_n_approx:.0f} years based on Sun\\'s approximation.')"
   ]
  },
  {
   "cell_type": "markdown",
   "id": "fc77368e",
   "metadata": {},
   "source": [
    "#### Exercise 12.3 \n",
    "\n",
    "Assume that a star remains 10$^9$ years in the main sequence and burns 10 *%* of its hydrogen. Then the star will expand into a red giant, and its luminosity will increase by a factor of 100. How long is the red giant stage, if we assume that the energy is produced only by burning the remaining hydrogen?"
   ]
  }
 ],
 "metadata": {
  "kernelspec": {
   "display_name": "Python 3",
   "language": "python",
   "name": "python3"
  },
  "language_info": {
   "codemirror_mode": {
    "name": "ipython",
    "version": 3
   },
   "file_extension": ".py",
   "mimetype": "text/x-python",
   "name": "python",
   "nbconvert_exporter": "python",
   "pygments_lexer": "ipython3",
   "version": "3.12.1"
  }
 },
 "nbformat": 4,
 "nbformat_minor": 5
}
