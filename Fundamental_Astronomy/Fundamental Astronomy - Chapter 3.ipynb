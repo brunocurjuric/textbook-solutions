{
 "cells": [
  {
   "cell_type": "markdown",
   "id": "71ab92a6",
   "metadata": {},
   "source": [
    "#### Exercise 3.1 \n",
    "\n",
    "The Moon was photographed with a telescope, the objective of which had a diameter of 20 cm and focal length of 150 cm. The exposure time was 0.1 s.\n",
    "\n",
    "(a) What should the exposure time be, if the diameter of the objective were 15 cm and focal length 200 cm?\n",
    "\n",
    "(b) What is the size of the image of the Moon in both cases?\n",
    "\n",
    "(c) Both telescopes are used to look at the Moon with an eyepiece the focal length of which is 25 mm. What are the magnifications?"
   ]
  },
  {
   "cell_type": "markdown",
   "id": "ff1d1d95",
   "metadata": {},
   "source": [
    "#### Exercise 3.2 \n",
    "\n",
    "The radio telescopes at Amherst, Massachusetts, and Onsala, Sweden, are used as an interferometer, the baseline being 2900 km.\n",
    "\n",
    "(a) What is the resolution at 22 GHz in the direction of the baseline?\n",
    "\n",
    "(b) What should be the size of an optical telescope with the same resolution?"
   ]
  }
 ],
 "metadata": {
  "kernelspec": {
   "display_name": "Python 3 (ipykernel)",
   "language": "python",
   "name": "python3"
  },
  "language_info": {
   "codemirror_mode": {
    "name": "ipython",
    "version": 3
   },
   "file_extension": ".py",
   "mimetype": "text/x-python",
   "name": "python",
   "nbconvert_exporter": "python",
   "pygments_lexer": "ipython3",
   "version": "3.9.12"
  }
 },
 "nbformat": 4,
 "nbformat_minor": 5
}
