{
 "cells": [
  {
   "cell_type": "markdown",
   "id": "c5335131",
   "metadata": {},
   "source": [
    "#### Exercise 15.1\n",
    "\n",
    "The mass of a pulsar is 1.5 *M*$_\\odot$, radius 10 km, and rotation period 0.033 s. What is the angular momentum of the pulsar? Variations of 0.0003 s are observed in the period. If they are due to radial oscillations (“starquakes”), how large are these oscillations?"
   ]
  },
  {
   "cell_type": "markdown",
   "id": "62a71dc4",
   "metadata": {},
   "source": [
    "#### Exercise 15.2\n",
    "\n",
    "In *Dragon’s Egg* by Robert L. Forward a spaceship orbits a neutron star at a distance of 406 km from the centre of the star. The orbital period is the same as the rotation period of the star, 0.1993 s.\n",
    "\n",
    "(a) Find the mass of the star and the gravitational acceleration felt by the spaceship.\n",
    "\n",
    "(b) What is the effect of the gravitation on a 175 cm tall astronaut, if (s)he stands with her/his feet pointing towards the star? And if (s)he is lying tangential to the orbit?"
   ]
  },
  {
   "cell_type": "markdown",
   "id": "a478a832",
   "metadata": {},
   "source": [
    "#### Exercise 15.3 \n",
    "\n",
    "A photon leaves the surface of a star at a frequency $\\nu_e$. An infinitely distant observer finds that its frequency is $\\nu$. If the difference is due to gravitation only, the change in the energy of the photon, *h*$\\Delta\\nu$, equals the change in its potential energy. Find the relation between $\\nu$ and $\\nu_e$, assuming the mass and radius of the star are *M* and *R*. How much will the solar radiation redshift on its way to the Earth?"
   ]
  }
 ],
 "metadata": {
  "kernelspec": {
   "display_name": "Python 3 (ipykernel)",
   "language": "python",
   "name": "python3"
  },
  "language_info": {
   "codemirror_mode": {
    "name": "ipython",
    "version": 3
   },
   "file_extension": ".py",
   "mimetype": "text/x-python",
   "name": "python",
   "nbconvert_exporter": "python",
   "pygments_lexer": "ipython3",
   "version": "3.9.12"
  }
 },
 "nbformat": 4,
 "nbformat_minor": 5
}
