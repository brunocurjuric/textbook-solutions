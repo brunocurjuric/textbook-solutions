{
 "cells": [
  {
   "cell_type": "markdown",
   "id": "d54c99b5",
   "metadata": {},
   "source": [
    "#### Exercise 8.1 \n",
    "\n",
    "The interval between two oppositions of a planet was 398.9 d. The angular diameter of the planet at the opposition was 47.2$^\\prime$$^\\prime$. Find the sidereal period, semimajor axis, and the true diameter (in kilometres) of the planet. Which planet was it?"
   ]
  },
  {
   "cell_type": "markdown",
   "id": "006a69f2",
   "metadata": {},
   "source": [
    "#### Exercise 8.2 \n",
    "\n",
    "(a) Assume that three bodies move along circular orbits with angular velocities (mean motions) $n_1$, $n_2$ and $n_3$. Show that these bodies have a common synodic period if and only if there are nonzero integers $k_1$, $k_2$ and $k_3$ such that\n",
    "\n",
    "<p style=\"text-align: center;\"> $k_1n_1 + k_2n_2 + k_3n_3 = 0, \\; k_1 + k_2 + k_3 = 0$. </p>\n",
    "\n",
    "(b) The resonance of the Galilean satellites can be expressed in terms of their mean motions as\n",
    "\n",
    "<p style=\"text-align: center;\"> $n_{\\text{Io}} − 3n_{\\text{Europa}} + 2n_{\\text{Ganymede}} = 0.$ </p>\n",
    "\n",
    "Find the synodic period of these three moons."
   ]
  },
  {
   "cell_type": "markdown",
   "id": "720e7397",
   "metadata": {},
   "source": [
    "#### Exercise 8.3 \n",
    "\n",
    "The rotation period of Mars is 24.62 hours and the orbital period of Deimos 30.30 hours. How long is the time between two successive risings of Deimos and how much Deimos moves in one hour as seen from Mars?"
   ]
  },
  {
   "cell_type": "markdown",
   "id": "612150a2",
   "metadata": {},
   "source": [
    "#### Exercise 8.4 \n",
    "\n",
    "Find the distance of the Roche limit for all planets and see if any of their moons is orbiting the limit. And how are the rings of giant planets situated relative to the Roche limit?"
   ]
  },
  {
   "cell_type": "markdown",
   "id": "7b45000b",
   "metadata": {},
   "source": [
    "#### Exercise 8.5 \n",
    "\n",
    "Assume that the hydrogen atom is a solid sphere with a radius of 5.3 $\\times$ 10$^{−11}$ m (the Bohr radius) and mass 1.67 $\\times $10$^{−27}$ kg. Use such balls to build a regular (infinite) grid where each ball is touching its six neighbours. What is the density of such matter? Compare with the density of Jupiter"
   ]
  }
 ],
 "metadata": {
  "kernelspec": {
   "display_name": "Python 3 (ipykernel)",
   "language": "python",
   "name": "python3"
  },
  "language_info": {
   "codemirror_mode": {
    "name": "ipython",
    "version": 3
   },
   "file_extension": ".py",
   "mimetype": "text/x-python",
   "name": "python",
   "nbconvert_exporter": "python",
   "pygments_lexer": "ipython3",
   "version": "3.9.12"
  }
 },
 "nbformat": 4,
 "nbformat_minor": 5
}
