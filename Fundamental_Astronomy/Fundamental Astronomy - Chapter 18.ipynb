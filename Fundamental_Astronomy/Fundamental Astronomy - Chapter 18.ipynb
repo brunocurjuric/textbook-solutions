{
 "cells": [
  {
   "cell_type": "markdown",
   "id": "8eacbee5",
   "metadata": {},
   "source": [
    "#### Exercise 18.1 \n",
    "\n",
    "Assume that the Sun and a star move around the Galaxy at the same speed in the same circular orbit in the galactic plane. Show that the proper motion of the star is independent of its distance. How big is this proper motion?"
   ]
  },
  {
   "cell_type": "markdown",
   "id": "4cc8bf6b",
   "metadata": {},
   "source": [
    "#### Exercise 18.2\n",
    "\n",
    "(a) A cepheid has a radial velocity of 80 km s$^{-1}$, and its galactic longitude is 145$^\\circ$. What is the distance of the cepheid?\n",
    "\n",
    "(b) The period of the cepheid is 3.16 d, and the apparent visual magnitude is 12.3. What is the distance derived from this information? Are the distances consistent?"
   ]
  },
  {
   "cell_type": "markdown",
   "id": "f05da488",
   "metadata": {},
   "source": [
    "#### Exercise 18.3 \n",
    "\n",
    "(a) How many of the nearest stars (Table C.15 - given below) are also among the brightest stars (Table C.16 - given below)? Explain.\n",
    "\n",
    "(b) If the stellar density were constant, how many stars would there be within the distance of Canopus?\n",
    "\n",
    "Table C.15             |  Table C.16\n",
    ":-------------------------:|:-------------------------:\n",
    "![](table_C15.png)  |  ![](table_C16.png)\n",
    "\n",
    "[comment]: <> (<img src=\"table_C16.PNG\"  width=\"60%\" height=\"30%\">)"
   ]
  },
  {
   "cell_type": "markdown",
   "id": "4ca73471",
   "metadata": {},
   "source": [
    "#### Exercise 18.4 \n",
    "\n",
    "(a) Assume that the Galaxy is a homogeneous disk and the Sun lies in the central plane of the disk. The absolute magnitude of a star is *M*, galactic latitude *b*, and distance from the central plane *z*. What is the apparent magnitude of the star, if the extinction inside the Galaxy is a mag kpc$^{-1}$?\n",
    "\n",
    "(b) Assume that the thickness of the galactic disk is 200 pc. Find the apparent magnitude of a star with *M* = 0.0, *b* = 30$^◦$, distance *r* = 1 kpc, and *a* = 1 mag kpc$^{-1}$."
   ]
  }
 ],
 "metadata": {
  "kernelspec": {
   "display_name": "Python 3 (ipykernel)",
   "language": "python",
   "name": "python3"
  },
  "language_info": {
   "codemirror_mode": {
    "name": "ipython",
    "version": 3
   },
   "file_extension": ".py",
   "mimetype": "text/x-python",
   "name": "python",
   "nbconvert_exporter": "python",
   "pygments_lexer": "ipython3",
   "version": "3.9.12"
  }
 },
 "nbformat": 4,
 "nbformat_minor": 5
}
