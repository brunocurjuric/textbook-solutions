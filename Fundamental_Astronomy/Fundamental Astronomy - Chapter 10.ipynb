{
 "cells": [
  {
   "cell_type": "markdown",
   "id": "80b7a563",
   "metadata": {},
   "source": [
    "#### Exercise 10.1\n",
    "\n",
    "The components of a binary move along circular orbits. The mutual distance is 1 au, and the mass of each component is 1 *M*$_\\odot$. An observer in the plane of the orbit will see periodic splitting of the spectral lines. What is the maximum separation of the components of the H$_\\gamma$ line."
   ]
  },
  {
   "cell_type": "markdown",
   "id": "bf6189e0",
   "metadata": {},
   "source": [
    "#### Exercise 10.2 \n",
    "\n",
    "A planet (mass *m*) is orbiting a star (mass *M*) at a distance *a*. The distance of the star from the centre of gravity of the system is *a*′. Show that\n",
    "\n",
    "<p style=\"text-align: center;\"> $MP^2 = a^2 (a − a′),$ </p>\n",
    "\n",
    "where *P* is period in years, distances are in au’s and masses in solar masses."
   ]
  },
  {
   "cell_type": "markdown",
   "id": "b788c2ba",
   "metadata": {},
   "source": [
    "#### Exercise 10.3 \n",
    "\n",
    "The distance of Barnard’s star is 1.83 pc and mass 0.135$M_\\odot$. It has been suggested that it oscillates with an amplitude of 0.026′′ in 25 year periods. Assuming this oscillation is caused by a planet, find the mass and radius of the orbit of this planet."
   ]
  }
 ],
 "metadata": {
  "kernelspec": {
   "display_name": "Python 3 (ipykernel)",
   "language": "python",
   "name": "python3"
  },
  "language_info": {
   "codemirror_mode": {
    "name": "ipython",
    "version": 3
   },
   "file_extension": ".py",
   "mimetype": "text/x-python",
   "name": "python",
   "nbconvert_exporter": "python",
   "pygments_lexer": "ipython3",
   "version": "3.9.12"
  }
 },
 "nbformat": 4,
 "nbformat_minor": 5
}
