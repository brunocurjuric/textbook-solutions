{
 "cells": [
  {
   "cell_type": "markdown",
   "id": "b79f660c",
   "metadata": {},
   "source": [
    "#### Exercise 6.1 \n",
    "\n",
    "Find the ratio of the orbital velocities at aphelion and perihelion $v_a$/$v_p$. What is this ratio for the Earth?"
   ]
  },
  {
   "cell_type": "markdown",
   "id": "5bdfb6ed",
   "metadata": {},
   "source": [
    "#### Exercise 6.2 \n",
    "\n",
    "The perihelion and aphelion of the orbit of Eros are 1.1084 and 1.8078 astronomical units from the Sun. What is the velocity of Eros when its distance from the Sun equals the mean distance of Mars?"
   ]
  },
  {
   "cell_type": "markdown",
   "id": "987925f7",
   "metadata": {},
   "source": [
    "#### Exercise 6.3 \n",
    "\n",
    "Find the radius of the orbit of a geostationary satellite; such a satellite remains always over the same point of the equator of the Earth. Are there areas on the surface of the Earth that cannot be seen from any geostationary satellite? If so, what fraction of the total surface area?"
   ]
  },
  {
   "cell_type": "markdown",
   "id": "1f2bd478",
   "metadata": {},
   "source": [
    "#### Exercise 6.4 \n",
    "\n",
    "From the angular diameter of the Sun and the length of the year, derive the mean density of the Sun."
   ]
  },
  {
   "cell_type": "markdown",
   "id": "17423c83",
   "metadata": {},
   "source": [
    "#### Exercise 6.5\n",
    "\n",
    "Find the mean, eccentric and true anomalies of the Earth one quarter of a year after the perihelion."
   ]
  },
  {
   "cell_type": "markdown",
   "id": "d1a2f053",
   "metadata": {},
   "source": [
    "#### Exercise 6.6\n",
    "\n",
    "The velocity of a comet is 5 m/s, when it is very far from the Sun. If it moved along a straight line, it would pass the Sun at a distance of 1 au. Find the eccentricity, semimajor axis and perihelion distance of the orbit. What will happen to the comet?"
   ]
  },
  {
   "cell_type": "markdown",
   "id": "66dc0c44",
   "metadata": {},
   "source": [
    "#### Exercise 6.7\n",
    "\n",
    "(a) Find the ecliptic geocentric radius vector of the Sun on May 1, 1997 (*J* = 2,450,570).\n",
    "\n",
    "(b) What are the declination and right ascension of the Sun then?"
   ]
  }
 ],
 "metadata": {
  "kernelspec": {
   "display_name": "Python 3 (ipykernel)",
   "language": "python",
   "name": "python3"
  },
  "language_info": {
   "codemirror_mode": {
    "name": "ipython",
    "version": 3
   },
   "file_extension": ".py",
   "mimetype": "text/x-python",
   "name": "python",
   "nbconvert_exporter": "python",
   "pygments_lexer": "ipython3",
   "version": "3.9.12"
  }
 },
 "nbformat": 4,
 "nbformat_minor": 5
}
