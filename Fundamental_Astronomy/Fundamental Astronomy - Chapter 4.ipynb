{
 "cells": [
  {
   "cell_type": "markdown",
   "id": "291db458",
   "metadata": {},
   "source": [
    "#### Exercise 4.1 \n",
    "\n",
    "The total magnitude of a triple star is 0.0. Two of its components have magnitudes 1.0 and 2.0. What is the magnitude of the third component?"
   ]
  },
  {
   "cell_type": "markdown",
   "id": "bd9a3f42",
   "metadata": {},
   "source": [
    "#### Exercise 4.2 \n",
    "\n",
    "The absolute magnitude of a star in the Andromeda galaxy (distance 690 kpc) is *M* = 5. It explodes as a supernova, becoming one billion (10$^9$) times brighter. What is its apparent magnitude?"
   ]
  },
  {
   "cell_type": "markdown",
   "id": "5a4fd271",
   "metadata": {},
   "source": [
    "#### Exercise 4.3 \n",
    "\n",
    "Assume that all stars have the same absolute magnitude and stars are evenly distributed in space. Let *N(m)* be the number of stars brighter than *m* magnitudes. Find the ratio *N(m + 1) / N(m)*."
   ]
  },
  {
   "cell_type": "markdown",
   "id": "f0a63cc8",
   "metadata": {},
   "source": [
    "#### Exercise 4.4 \n",
    "\n",
    "The V magnitude of a star is 15.1, B − V = 1.6, and absolute magnitude *M$_V$* = 1.3. The extinction in the direction of the star in the visual band is a$_V$ = 1 mag kpc$^{-1}$. What is the intrinsic colour of the star?"
   ]
  },
  {
   "cell_type": "markdown",
   "id": "33c5ae12",
   "metadata": {},
   "source": [
    "#### Exercise 4.5 \n",
    "\n",
    "Stars are observed through a triple window. Each surface reflects away 15 % of the incident light.\n",
    "\n",
    "(a) What is the magnitude of Regulus (*M$_V$* = 1.36) seen through the window?\n",
    "\n",
    "(b) What is the optical thickness of the window?"
   ]
  }
 ],
 "metadata": {
  "kernelspec": {
   "display_name": "Python 3 (ipykernel)",
   "language": "python",
   "name": "python3"
  },
  "language_info": {
   "codemirror_mode": {
    "name": "ipython",
    "version": 3
   },
   "file_extension": ".py",
   "mimetype": "text/x-python",
   "name": "python",
   "nbconvert_exporter": "python",
   "pygments_lexer": "ipython3",
   "version": "3.9.12"
  }
 },
 "nbformat": 4,
 "nbformat_minor": 5
}
