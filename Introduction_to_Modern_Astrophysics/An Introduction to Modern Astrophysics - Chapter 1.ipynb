{
 "cells": [
  {
   "cell_type": "markdown",
   "id": "78a58525",
   "metadata": {},
   "source": [
    "#### 1.1 \n",
    "\n",
    "Derive the relationship between a planet’s synodic period and its sidereal period (Eq. 1.1 - given below). Consider both inferior and superior planets.\n",
    "\n",
    "$$\n",
    "1/S =\n",
    "\\begin{cases}\n",
    " 1/P - 1/P_\\oplus & (\\text{inferior}) \\\\\n",
    " 1/P_\\oplus - 1/P & (\\text{superior})\n",
    " \\end{cases}       \n",
    "$$"
   ]
  },
  {
   "cell_type": "markdown",
   "id": "dbe6d731",
   "metadata": {},
   "source": [
    "#### 1.2 \n",
    "\n",
    "Devise methods to determine the *relative* distances of each of the planets from the Sun given the information available to Copernicus (observable angles between the planets and the Sun, orbital configurations, and synodic periods)."
   ]
  },
  {
   "cell_type": "markdown",
   "id": "cfce9cb4",
   "metadata": {},
   "source": [
    "#### 1.3 \n",
    "\n",
    "**(a)** The observed orbital synodic periods of Venus and Mars are 583.9 days and 779.9 days, respectively. Calculate their sidereal periods.\n",
    "\n",
    "**(b)** Which one of the superior planets has the shortest synodic period? Why?"
   ]
  },
  {
   "cell_type": "markdown",
   "id": "2f34287b",
   "metadata": {},
   "source": [
    "#### 1.4 \n",
    "\n",
    "List the right ascension and declination of the Sun when it is located at the vernal equinox, the summer solstice, the autumnal equinox, and the winter solstice."
   ]
  },
  {
   "cell_type": "markdown",
   "id": "4fb354a7",
   "metadata": {},
   "source": [
    "#### 1.5 \n",
    "\n",
    "**(a)** Referring to Fig. 1.12(a) below, calculate the altitude of the Sun along the meridian on the first day of summer for an observer at a latitude of 42$^◦$ north.\n",
    "\n",
    "<img src=\"figure_1_12.PNG\" width=\"300\" />\n",
    "\n",
    "**(b)** What is the maximum altitude of the Sun on the first day of winter at the same latitude?"
   ]
  },
  {
   "cell_type": "markdown",
   "id": "a8babbc1",
   "metadata": {},
   "source": [
    "#### 1.6 \n",
    "\n",
    "**(a)** Circumpolar stars are stars that never set below the horizon of the local observer or stars that are never visible above the horizon. After sketching a diagram similar to Fig. 1.12(a) - given below, calculate the range of declinations for these two groups of stars for an observer at the latitude *L*.\n",
    "\n",
    "<img src=\"figure_1_12.PNG\" width=\"300\" />\n",
    "\n",
    "**(b)** At what latitude(s) on Earth will the Sun never set when it is at the summer solstice?\n",
    "\n",
    "**(c)** Is there any latitude on Earth where the Sun will never set when it is at the vernal equinox? If so, where?"
   ]
  },
  {
   "cell_type": "markdown",
   "id": "51b46a62",
   "metadata": {},
   "source": [
    "#### 1.7 \n",
    "\n",
    "(a) Determine the Julian date for 16:15 UT on July 14, 2006. (*Hint*: Be sure to include any leap years in your calculation.)\n",
    "\n",
    "(b) What is the corresponding modified Julian date?"
   ]
  },
  {
   "cell_type": "markdown",
   "id": "04b91817",
   "metadata": {},
   "source": [
    "#### 1.8 \n",
    "\n",
    "Proxima Centauri ($\\alpha$ Centauri C) is the closest star to the Sun and is a part of a triple star system. It has the epoch J2000.0 coordinates ($\\alpha$, $\\delta$) = (14$^\\text{h}$29$^\\text{m}$42.95$^\\text{s}$, $−$62$^◦$40$^\\prime$46.1$^\\prime$$^\\prime$). The brightest member of the system, Alpha Centauri ($\\alpha$ Centauri A) has J2000.0 coordinates of ($\\alpha$, $\\delta$) = (14$^\\text{h}$39$^\\text{m}$36.50$^\\text{s}$, $−$60$^◦$50$^\\prime$02.3$^\\prime$$^\\prime$).\n",
    "\n",
    "(a) What is the angular separation of Proxima Centauri and Alpha Centauri?\n",
    "\n",
    "(b) If the distance to Proxima Centauri is 4.0 $\\times$ 10$^{16}$ m, how far is the star from Alpha Centauri?"
   ]
  },
  {
   "cell_type": "markdown",
   "id": "0ddda95c",
   "metadata": {},
   "source": [
    "#### 1.9 \n",
    "\n",
    "(a) Using the information in Problem 1.8, precess the coordinates of Proxima Centauri to epoch J2010.0.\n",
    "\n",
    "(b) The proper motion of Proxima Centauri is 3.84$^\\prime$$^\\prime$ yr$^{−1}$ with the position angle 282$^◦$. Calculate\n",
    "the change in $\\alpha$ and $\\delta$ due to proper motion between 2000.0 and 2010.0.\n",
    "\n",
    "(c) Which effect makes the largest contribution to changes in the coordinates of Proxima Centauri: precession or proper motion?"
   ]
  },
  {
   "cell_type": "markdown",
   "id": "6bf6567b",
   "metadata": {},
   "source": [
    "#### 1.10 \n",
    "\n",
    "Which values of right ascension would be best for viewing by an observer at a latitude of 40$^◦$ in January?"
   ]
  },
  {
   "cell_type": "markdown",
   "id": "fc0858cd",
   "metadata": {},
   "source": [
    "#### 1.11 \n",
    "\n",
    "Verify that Eq. (1.7) follows directly from the expression immediately preceding it (given below).\n",
    "\n",
    "Equation 1.7 and expression preceding it:\n",
    "\n",
    "$$\n",
    "\\begin{equation}\n",
    "\\Delta\\delta = \\Delta\\theta \\, \\text{cos}\\phi\n",
    "\\end{equation}\n",
    "$$\n",
    "\n",
    "$$\n",
    "\\begin{equation}\n",
    "\\text{cos}[90^\\circ - (\\delta + \\Delta\\delta)] = \\text{cos}(90^\\circ - \\delta) \\, \\text{cos}(\\Delta\\theta) + \\text{sin}(90^\\circ - \\delta) \\, \\text{sin}(\\Delta\\theta) \\, \\text{cos}\\phi\n",
    "\\end{equation}\n",
    "$$"
   ]
  }
 ],
 "metadata": {
  "kernelspec": {
   "display_name": "Python 3 (ipykernel)",
   "language": "python",
   "name": "python3"
  },
  "language_info": {
   "codemirror_mode": {
    "name": "ipython",
    "version": 3
   },
   "file_extension": ".py",
   "mimetype": "text/x-python",
   "name": "python",
   "nbconvert_exporter": "python",
   "pygments_lexer": "ipython3",
   "version": "3.9.12"
  }
 },
 "nbformat": 4,
 "nbformat_minor": 5
}
